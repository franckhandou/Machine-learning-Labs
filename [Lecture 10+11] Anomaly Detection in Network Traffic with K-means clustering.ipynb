{
 "cells": [
  {
   "cell_type": "markdown",
   "metadata": {},
   "source": [
    "<div>\n",
    "<h1>Run the cell below to generate the road map (do not modify it)</h1></div>"
   ]
  },
  {
   "cell_type": "code",
   "execution_count": 1,
   "metadata": {
    "collapsed": false
   },
   "outputs": [
    {
     "data": {
      "application/javascript": [
       "var kernel = IPython.notebook.kernel;var thename = window.document.getElementById(\"notebook_name\").innerHTML;var command = \"THE_NOTEBOOK = \" + \"'\"+thename+\"'\";kernel.execute(command);command=\"os.environ['THE_NOTEBOOK'] = THE_NOTEBOOK\";kernel.execute(command);var cell = IPython.notebook.get_cell(2);cell.execute();IPython.notebook.get_cell(3).focus_cell();var x = $('.code_cell');$(x[1]).children('.input').hide();"
      ],
      "text/plain": [
       "<IPython.core.display.Javascript object>"
      ]
     },
     "metadata": {},
     "output_type": "display_data"
    }
   ],
   "source": [
    "%%javascript\n",
    "var kernel = IPython.notebook.kernel;var thename = window.document.getElementById(\"notebook_name\").innerHTML;var command = \"THE_NOTEBOOK = \" + \"'\"+thename+\"'\";kernel.execute(command);command=\"os.environ['THE_NOTEBOOK'] = THE_NOTEBOOK\";kernel.execute(command);var cell = IPython.notebook.get_cell(2);cell.execute();IPython.notebook.get_cell(3).focus_cell();var x = $('.code_cell');$(x[1]).children('.input').hide();"
   ]
  },
  {
   "cell_type": "code",
   "execution_count": 2,
   "metadata": {
    "collapsed": false
   },
   "outputs": [
    {
     "data": {
      "text/html": [
       "\n",
       "   <script src=\"http://code.jquery.com/jquery-latest.min.js\" type=\"text/javascript\"></script>\n",
       "   <script>\n",
       "      (function($){\n",
       "         $(document).ready(function(){\n",
       "\n",
       "         $('#cssmenu li.active').addClass('open').children('ul').show();\n",
       "            $('#cssmenu li.has-sub>a').on('click', function(){\n",
       "               $(this).removeAttr('href');\n",
       "               var margin_left = parseInt($(this).css('padding-left').replace('px', ''));\n",
       "               var element = $(this).parent('li');\n",
       "               if (element.hasClass('open')) {\n",
       "                  element.removeClass('open');\n",
       "                  element.find('li').removeClass('open');\n",
       "                  element.find('ul').slideUp(200);\n",
       "               }\n",
       "               else {\n",
       "                  element.addClass('open');\n",
       "                  element.children('ul').slideDown(200);\n",
       "                  element.siblings('li').children('ul').slideUp(200);\n",
       "                  element.siblings('li').removeClass('open');\n",
       "                  element.siblings('li').find('li').removeClass('open');\n",
       "                  element.siblings('li').find('ul').slideUp(200);\n",
       "                  element.children().find('a').css('padding-left', margin_left + 16 + \"px\");\n",
       "               }\n",
       "            });\n",
       "\n",
       "            var screen_height = $(window).height(); \n",
       "            var headerHeight = $(\"#header\").outerHeight();\n",
       "            var max_height_menu = screen_height - headerHeight;\n",
       "            $(\"#cssmenu\").css('max-height', max_height_menu + 'px');\n",
       "            $(\"#cssmenu\").css('top', headerHeight + 'px');\n",
       "            $(\"#menu-activator\").css('top', headerHeight + 'px');\n",
       "            $(\"#cssmenu\").show();\n",
       "            $(\"#menu-activator\").hide();\n",
       "\n",
       "\n",
       "            $(\"#menu-activator\").mouseover(function(){\n",
       "              $(\"#cssmenu\").show();\n",
       "              $(\"#menu-activator\").hide();\n",
       "            });\n",
       "\n",
       "\n",
       "            $(\"#cssmenu\").mouseleave(function(){\n",
       "              $(\"#cssmenu\").hide();\n",
       "              $(\"#menu-activator\").show();\n",
       "            });\n",
       "\n",
       "            $(\"div.anchor\").parent('div').addClass('bcolor');\n",
       "\n",
       "         });\n",
       "      })(jQuery);\n",
       "   </script>\n",
       "   <style>\n",
       "      @import url(http://fonts.googleapis.com/css?family=Raleway:400,200);\n",
       "      #cssmenu,\n",
       "      #cssmenu ul,\n",
       "      #cssmenu ul li,\n",
       "      #cssmenu ul li a {\n",
       "        margin: 0;\n",
       "        padding: 0;\n",
       "        border: 0;\n",
       "        list-style: none;\n",
       "        line-height: 1;\n",
       "        display: block;\n",
       "        position: relative;\n",
       "        -webkit-box-sizing: border-box;\n",
       "        -moz-box-sizing: border-box;\n",
       "        box-sizing: border-box;\n",
       "      }\n",
       "      #cssmenu {\n",
       "        width: 220px;\n",
       "        font-family: Raleway, sans-serif;\n",
       "        color: #ffffff;\n",
       "        max-height:600px;\n",
       "        overflow-y:scroll;\n",
       "        overflow-x:hidden;\n",
       "        position:fixed;\n",
       "        top:130px;\n",
       "        left:0px;\n",
       "      }\n",
       "      #cssmenu ul ul {\n",
       "        display: none;\n",
       "      }\n",
       "      #cssmenu > ul > li.active > ul {\n",
       "        display: block;\n",
       "      }\n",
       "      .align-right {\n",
       "        float: right;\n",
       "      }\n",
       "      #cssmenu > ul > li > a {\n",
       "        padding: 16px 22px;\n",
       "        cursor: pointer;\n",
       "        z-index: 2;\n",
       "        font-size: 16px;\n",
       "        text-decoration: none;\n",
       "        color: #ffffff;\n",
       "        background: #565656;\n",
       "        -webkit-transition: color .2s ease;\n",
       "        -o-transition: color .2s ease;\n",
       "        transition: color .2s ease;\n",
       "      }\n",
       "      #cssmenu > ul > li > a:hover {\n",
       "        color: #d8f3f0;\n",
       "      }\n",
       "      #cssmenu ul > li.has-sub > a:after {\n",
       "        position: absolute;\n",
       "        right: 26px;\n",
       "        top: 19px;\n",
       "        z-index: 5;\n",
       "        display: block;\n",
       "        height: 10px;\n",
       "        width: 2px;\n",
       "        background: #ffffff;\n",
       "        content: \"\";\n",
       "        -webkit-transition: all 0.1s ease-out;\n",
       "        -moz-transition: all 0.1s ease-out;\n",
       "        -ms-transition: all 0.1s ease-out;\n",
       "        -o-transition: all 0.1s ease-out;\n",
       "        transition: all 0.1s ease-out;\n",
       "      }\n",
       "      #cssmenu ul > li.has-sub > a:before {\n",
       "        position: absolute;\n",
       "        right: 22px;\n",
       "        top: 23px;\n",
       "        display: block;\n",
       "        width: 10px;\n",
       "        height: 2px;\n",
       "        background: #ffffff;\n",
       "        content: \"\";\n",
       "        -webkit-transition: all 0.1s ease-out;\n",
       "        -moz-transition: all 0.1s ease-out;\n",
       "        -ms-transition: all 0.1s ease-out;\n",
       "        -o-transition: all 0.1s ease-out;\n",
       "        transition: all 0.1s ease-out;\n",
       "      }\n",
       "      #cssmenu ul > li.has-sub.open > a:after,\n",
       "      #cssmenu ul > li.has-sub.open > a:before {\n",
       "        -webkit-transform: rotate(45deg);\n",
       "        -moz-transform: rotate(45deg);\n",
       "        -ms-transform: rotate(45deg);\n",
       "        -o-transform: rotate(45deg);\n",
       "        transform: rotate(45deg);\n",
       "      }\n",
       "      #cssmenu ul ul li a {\n",
       "        padding: 14px 22px;\n",
       "        cursor: pointer;\n",
       "        z-index: 2;\n",
       "        font-size: 14px;\n",
       "        text-decoration: none;\n",
       "        color: #dddddd;\n",
       "        background: #49505a;\n",
       "        -webkit-transition: color .2s ease;\n",
       "        -o-transition: color .2s ease;\n",
       "        transition: color .2s ease;\n",
       "      }\n",
       "      #cssmenu ul ul ul li a {\n",
       "        /*padding-left: 32px;*/\n",
       "      }\n",
       "      #cssmenu ul ul li a:hover {\n",
       "        color: #ffffff;\n",
       "      }\n",
       "      #cssmenu ul ul > li.has-sub > a:after {\n",
       "        top: 16px;\n",
       "        right: 26px;\n",
       "        background: #dddddd;\n",
       "      }\n",
       "      #cssmenu ul ul > li.has-sub > a:before {\n",
       "        top: 20px;\n",
       "        background: #dddddd;\n",
       "      }\n",
       "      #menu-activator {\n",
       "        position: fixed;\n",
       "        top: 130px;\n",
       "        left: 0px;\n",
       "        width: 60px;\n",
       "        padding: 16px 20px;\n",
       "        display: block;\n",
       "        background-color: #565656;\n",
       "        font-size: 16px;\n",
       "        color: white;\n",
       "      }\n",
       "\n",
       "      div.bcolor, span.bcolor {\n",
       "      \tborder-radius: 15px; \n",
       "      \tbackground: rgb(224,239,130);\n",
       "      \tpadding:10px;\n",
       "      }\n",
       "\n",
       "      div.answer, div.comment, div.note {\n",
       "        background-color: rgb(255, 235, 218);\n",
       "        padding: 10px;\n",
       "        border-radius: 5px;\n",
       "      }\n",
       "\n",
       "      div.comment::before, div.answer::before, div.note::before {\n",
       "          background-color: yellow;\n",
       "          color: red;\n",
       "          font-weight: bold;\n",
       "          margin-right:5px;\n",
       "          padding:3px;\n",
       "      }\n",
       "\n",
       "      div.comment::before {\n",
       "        content: \"Comment:\";\n",
       "      }\n",
       "\n",
       "      div.answer::before {\n",
       "        content: \"Answer:\";\n",
       "      }\n",
       "\n",
       "      div.note::before {\n",
       "        content: \"Note:\";\n",
       "      }\n",
       "\n",
       "      @media print{\n",
       "      \t#cssmenu {\n",
       "      \t\tdisplay:none;\n",
       "      \t}\n",
       "      }\n",
       "   </style>\n",
       "   <title>Roadmap</title>\n",
       "</head>\n",
       "<body>\n",
       "<div id=\"menu-activator\">O</div>\n",
       "<div id='cssmenu'>\n",
       "<ul>\n",
       "<li class='has-sub'><a href=\"#\">ROADMAP</a>\n",
       "<ul><li class='has-sub'><a href='#Anomaly-Detection-in-Network-Traffic-with-K-means-clustering'>Anomaly Detection in Network Traffic with K-means clustering</a><ul><li><a href='#Goals'>Goals</a></li><li><a href='#Steps'>Steps</a></li></ul></li><li class='has-sub'><a href='#1.-K-means'>1. K-means</a><ul><li><a href='#1.1.-Introduction'>1.1. Introduction</a></li><li><a href='#1.2.-How-does-it-work-?'>1.2. How does it work ?</a></li><li class='has-sub'><a href='#1.3.-Illustrative-example'>1.3. Illustrative example</a><ul><li class='has-sub'><a href='#Question-1'>Question 1</a><ul><li><a href='#Question-1.1'>Question 1.1</a></li><li><a href='#Question-1.2'>Question 1.2</a></li><li><a href='#Question-1.3'>Question 1.3</a></li><li><a href='#Question-1.4'>Question 1.4</a></li><li><a href='#Question-1.5'>Question 1.5</a></li><li><a href='#Question-1.6'>Question 1.6</a></li><li><a href='#Question-1.7'>Question 1.7</a></li></ul></li></ul></li></ul></li><li class='has-sub'><a href='#2.-Usecase:-Network-Intrusion'>2. Usecase: Network Intrusion</a><ul><li><a href='#2.1.-Data'>2.1. Data</a></li><li class='has-sub'><a href='#2.2.-Clustering-without-using-categorical-features'>2.2. Clustering without using categorical features</a><ul><li class='has-sub'><a href='#2.2.1.-Loading-data'>2.2.1. Loading data</a><ul><li><a href='#Question-2'>Question 2</a></li><li><a href='#Question-3'>Question 3</a></li></ul></li><li class='has-sub'><a href='#2.2.3.-Evaluating-model'>2.2.3. Evaluating model</a><ul><li><a href='#Question-4'>Question 4</a></li><li><a href='#Question-5'>Question 5</a></li></ul></li><li class='has-sub'><a href='#2.2.4.-Choosing-K'>2.2.4. Choosing K</a><ul><li><a href='#Question-6'>Question 6</a></li></ul></li><li class='has-sub'><a href='#2.2.5-Normalizing-features'>2.2.5 Normalizing features</a><ul><li><a href='#Question-7'>Question 7</a></li><li><a href='#Question-8'>Question 8</a></li><li><a href='#Question-9'>Question 9</a></li></ul></li></ul></li><li class='has-sub'><a href='#2.3.-Clustering-using-categorical-features'>2.3. Clustering using categorical features</a><ul><li class='has-sub'><a href='#2.3.1-Loading-data'>2.3.1 Loading data</a><ul><li><a href='#Question-10'>Question 10</a></li></ul></li><li class='has-sub'><a href='#2.3.2.-Building-models'>2.3.2. Building models</a><ul><li><a href='#Question-11'>Question 11</a></li></ul></li></ul></li><li class='has-sub'><a href='#2.4.-Anomaly-detection'>2.4. Anomaly detection</a><ul><li><a href='#Question-12'>Question 12</a></li><li><a href='#Question-13'>Question 13</a></li><li><a href='#Question-14'>Question 14</a></li></ul></li></ul></li></ul>\n",
       "</li>\n",
       "<li class='has-sub'><a href=\"#\">QUESTIONS</a>\n",
       "<ul><li class='has-sub'><a href='#Question-1'>Question 1</a><ul><li><a href='#Question-1.1'>Question 1.1</a></li><li><a href='#Question-1.2'>Question 1.2</a></li><li><a href='#Question-1.3'>Question 1.3</a></li><li><a href='#Question-1.4'>Question 1.4</a></li><li><a href='#Question-1.5'>Question 1.5</a></li><li><a href='#Question-1.6'>Question 1.6</a></li><li><a href='#Question-1.7'>Question 1.7</a></li></ul></li><li><a href='#Question-2'>Question 2</a></li><li><a href='#Question-3'>Question 3</a></li><li><a href='#Question-4'>Question 4</a></li><li><a href='#Question-5'>Question 5</a></li><li><a href='#Question-6'>Question 6</a></li><li><a href='#Question-7'>Question 7</a></li><li><a href='#Question-8'>Question 8</a></li><li><a href='#Question-9'>Question 9</a></li><li><a href='#Question-10'>Question 10</a></li><li><a href='#Question-11'>Question 11</a></li><li><a href='#Question-12'>Question 12</a></li><li><a href='#Question-13'>Question 13</a></li><li><a href='#Question-14'>Question 14</a></li></ul>\n",
       "</li>\n",
       "</ul>\n",
       "</div>\n",
       "\n"
      ],
      "text/plain": [
       "<IPython.core.display.HTML object>"
      ]
     },
     "execution_count": 2,
     "metadata": {},
     "output_type": "execute_result"
    }
   ],
   "source": [
    "outputdir = \"/tmp/tools/\"\n",
    "!mkdir -p $outputdir\n",
    "!wget \"https://www.dropbox.com/s/4g0pigmro4vo1b4/menutemplate?dl=0\" -O /tmp/tools/menutemplate >> /tmp/toollog 2>&1 \n",
    "!wget \"https://www.dropbox.com/s/3flttpzhsja8td7/construct_menu.py?dl=0\" -O /tmp/tools/construct_menu.py >> /tmp/toollog 2>&1 \n",
    "!python /tmp/tools/construct_menu.py \"{THE_NOTEBOOK}.ipynb\" {outputdir}\n",
    "from IPython.core.display import HTML\n",
    "output_file_name = outputdir + THE_NOTEBOOK.replace(\" \", \"\").replace(\"[\", \"\").replace(\"]\", \"\") + \".ipynb.html\"\n",
    "with open(output_file_name) as fp:\n",
    "    html = fp.read()\n",
    "HTML(html)"
   ]
  },
  {
   "cell_type": "markdown",
   "metadata": {},
   "source": [
    "# Anomaly Detection in Network Traffic with K-means clustering\n",
    "\n",
    "We can categorize machine learning algorithms into two main groups: **supervised learning** and **unsupervised learning**. With supervised learning algorithms, in order to predict unknown values for new data, we have to know the target value for many previously-seen examples. In contrast, unsupervised learning algorithms explore the data which has no target attribute to find some intrinsic structures in them.\n",
    "\n",
    "Clustering is a technique for finding similar groups in data, called **clusters**. Clustering is often called an unsupervised learning task as no class values denoting an a priori grouping of the data instances are given.\n",
    "\n",
    "In this notebook, we will use K-means, a very well known clustering algorithm to detect anomaly network connections based on statistics about each of them. For a thorough overview of K-means clustering, from a research perspective, have a look at this wonderful [tutorial](http://theory.stanford.edu/~sergei/slides/kdd10-thclust.pdf)."
   ]
  },
  {
   "cell_type": "markdown",
   "metadata": {},
   "source": [
    "## Goals\n",
    "We expect students to:\n",
    "* Learn (or revise) and understand the K-means algorithm\n",
    "* Implement a simple K-means algorithm\n",
    "* Use K-means to detect anomalies network connection data"
   ]
  },
  {
   "cell_type": "markdown",
   "metadata": {},
   "source": [
    "## Steps\n",
    "\n",
    "1. In section 1, we will have an overview about K-means then implement a simple version of it.\n",
    "2. In section 2, we build models with and without categorical features.\n",
    "3. Finally, in the last section, using our models, we will detect unsual connections."
   ]
  },
  {
   "cell_type": "markdown",
   "metadata": {},
   "source": [
    "# 1. K-means\n",
    "## 1.1. Introduction\n",
    "Clustering is a typical and well-known type of unsupervised learning. Clustering algorithms try to find natural groupings in data. Similar data points (according to some notion of similarity) are considered in the same group. We call these groups **clusters**.\n",
    "\n",
    "K-Means clustering is a simple and widely-used clustering algorithm. Given value of $k$, it tries to build $k$ clusters from samples in the dataset. Therefore, $k$ is an hyperparameter of the model. The right value of $k$ is not easy to determine, as it highly depends on the data set and the way that data is featurized.\n",
    "\n",
    "To measue the similarity between any two data points, K-means requires the definition of a distance funtion between data points. What is a distance? It is a value that indicates how close two data points are in their space. In particular, when data points lie in a $d$-dimensional space, the Euclidean distance is a good choice of a distance function, and is supported by MLLIB.\n",
    "\n",
    "In K-means, a cluster is a group of points, with a representative entity called a centroid. A centroid is also a point in the data space: the center of all the points that make up the cluster. It's defined to be the arithmetic mean of the points. In general, when working with K-means, each data sample is represented in a $d$-dimensional numeric vector, for which it is easier to define an appropriate distance function. As a consequence, in some applications, the original data must be transformed into a different representation, to fit the requirements of K-means.\n",
    "\n",
    "## 1.2. How does it work ?\n",
    "Given $k$, the K-means algorithm works as follows:\n",
    "\n",
    "1. Randomly choose $k$ data points (seeds) to be the initial centroids\n",
    "2. Assign each data point to the **closest centroid**\n",
    "3. Re-compute (update) the centroids using the current cluster memberships\n",
    "4. If a convergence criterion is not met, go to step 2\n",
    "\n",
    "We can also terminate the algorithm when it reaches an iteration budget, which yields an approximate result.\n",
    "From the pseudo-code of the algorithm, we can see that K-means clustering results can be sensitive to the order in which data samples in the data set are explored. A sensible practice would be to run the analysis several times, randomizing objects order; then, average the cluster centres of those runs and input the centres as initial ones for one final run of the analysis."
   ]
  },
  {
   "cell_type": "markdown",
   "metadata": {},
   "source": [
    "## 1.3. Illustrative example\n",
    "One of the best ways to study an algorithm is trying implement it.\n",
    "In this section, we will go step by step to implement a simple K-means algorithm."
   ]
  },
  {
   "cell_type": "markdown",
   "metadata": {},
   "source": [
    "![](https://farm2.staticflickr.com/1604/24934700445_833f0a5649_t.jpg)"
   ]
  },
  {
   "cell_type": "markdown",
   "metadata": {},
   "source": [
    "<div class='anchor' ></div>\n",
    "### Question 1\n",
    "\n",
    "#### Question 1.1\n",
    "Complete the below function to calculate an euclidean distance between any two points in $d$-dimensional data space"
   ]
  },
  {
   "cell_type": "code",
   "execution_count": null,
   "metadata": {
    "collapsed": false
   },
   "outputs": [],
   "source": []
  },
  {
   "cell_type": "code",
   "execution_count": 3,
   "metadata": {
    "collapsed": false
   },
   "outputs": [],
   "source": [
    "import math\n",
    "import numpy as np\n",
    "\n",
    "# calculate distance between two d-dimensional points\n",
    "def euclidean_distance(p1, p2):\n",
    "    return np.linalg.norm(np.asarray(p1) - np.asarray(p2))\n",
    "\n",
    "# test our function\n",
    "assert (round(euclidean_distance([1,2,3] , [10,18,12]), 2) == 20.45), \"Function's wrong\"\n"
   ]
  },
  {
   "cell_type": "markdown",
   "metadata": {},
   "source": [
    "<div class='anchor' ></div>\n",
    "\n",
    "#### Question 1.2\n",
    "Given a data point and the current set of centroids, complete the function below to find the index of the closest centroid for that data point."
   ]
  },
  {
   "cell_type": "code",
   "execution_count": 4,
   "metadata": {
    "collapsed": false
   },
   "outputs": [],
   "source": [
    "def find_closest_centroid(datapoint, centroids):\n",
    "    # find the index of the closest centroid of the given data point.\n",
    "    return np.argmin([euclidean_distance(datapoint,centroid) for centroid in centroids])\n",
    "        \n",
    "\n",
    "assert(find_closest_centroid( [1,1,1], [ [2,1,2], [1,2,1], [3,1,2] ] ) == 1), \"Function's wrong\"\n"
   ]
  },
  {
   "cell_type": "markdown",
   "metadata": {},
   "source": [
    "<div class='anchor' ></div>\n",
    "\n",
    "#### Question 1.3\n",
    "Write a function to randomize $k$ initial centroids."
   ]
  },
  {
   "cell_type": "code",
   "execution_count": null,
   "metadata": {
    "collapsed": false
   },
   "outputs": [],
   "source": []
  },
  {
   "cell_type": "code",
   "execution_count": 5,
   "metadata": {
    "collapsed": false
   },
   "outputs": [],
   "source": [
    "import random\n",
    "np.random.seed(22324)\n",
    "\n",
    "# randomize initial centroids\n",
    "def randomize_centroids(data, k):\n",
    "    centroids = random.sample(list(data),k)\n",
    "    return centroids\n",
    "\n",
    "assert(len(\n",
    "    randomize_centroids(\n",
    "        np.array([ \n",
    "            np.array([2,1,2]), \n",
    "            np.array([1,2,1]), \n",
    "            np.array([3,1,2]) \n",
    "             ]),\n",
    "        2)) == 2), \"Wrong function\"\n",
    "\n"
   ]
  },
  {
   "cell_type": "markdown",
   "metadata": {},
   "source": [
    "<div class='anchor' ></div>\n",
    "\n",
    "#### Question 1.4\n",
    "Write function `check_converge` to check the stop creteria of the algorithm."
   ]
  },
  {
   "cell_type": "code",
   "execution_count": null,
   "metadata": {
    "collapsed": false
   },
   "outputs": [],
   "source": []
  },
  {
   "cell_type": "code",
   "execution_count": 6,
   "metadata": {
    "collapsed": false
   },
   "outputs": [],
   "source": [
    "MAX_ITERATIONS = 1000\n",
    "\n",
    "# return True if clusters have converged , otherwise, return False  \n",
    "def check_converge(centroids, old_centroids, num_iterations, threshold=0):\n",
    "    # if it reaches an iteration budget\n",
    "    if num_iterations>MAX_ITERATIONS:\n",
    "        return True\n",
    "    # check if the centroids don't move (or very slightly)\n",
    "    for i in range(len(centroids)):\n",
    "        if (euclidean_distance(centroids[i],old_centroids[i])>= threshold):\n",
    "            return False\n",
    "    return True\n"
   ]
  },
  {
   "cell_type": "markdown",
   "metadata": {},
   "source": [
    "<div class='anchor' ></div>\n",
    "\n",
    "#### Question 1.5\n",
    "Write function `update_centroid` to update the new positions for the current centroids based on the position of their members."
   ]
  },
  {
   "cell_type": "code",
   "execution_count": 7,
   "metadata": {
    "collapsed": false
   },
   "outputs": [],
   "source": [
    "# centroids: a list of centers\n",
    "# cluster: a list of k elements. Each element i-th is a list of data points that are assigned to center i-th\n",
    "def update_centroids(centroids, clusters):\n",
    "    c=[]\n",
    "    #print(clusters)\n",
    "    #print(clusters[2])\n",
    "    for element in clusters:\n",
    "        c.append(np.asarray([np.mean([datapoint[i] for datapoint in element ]) for i in range(element[0].size)]))\n",
    "    centroids=c    \n",
    "    return centroids\n"
   ]
  },
  {
   "cell_type": "markdown",
   "metadata": {},
   "source": [
    "<div class='anchor' ></div>\n",
    "\n",
    "#### Question 1.6\n",
    "Complete the K-means algorithm scheleton below, with the functions you wrote above."
   ]
  },
  {
   "cell_type": "code",
   "execution_count": 8,
   "metadata": {
    "collapsed": false
   },
   "outputs": [],
   "source": [
    "# data : set of data points\n",
    "# k : number of clusters\n",
    "# centroids: initial list of centroids\n",
    "def kmeans(data, k=2, centroids=None):\n",
    "    \n",
    "    # randomize the centroids if they are not given\n",
    "    if not centroids:\n",
    "        centroids = randomize_centroids(data,k)\n",
    "\n",
    "    old_centroids = centroids[:]\n",
    "\n",
    "    iterations = 0\n",
    "    while True:\n",
    "        iterations += 1\n",
    "\n",
    "        # init empty clusters\n",
    "        clusters = [[] for i in range(k)]\n",
    "\n",
    "        # assign each data point to the closest centroid\n",
    "        for datapoint in data:\n",
    "            # find the closest center of each data point\n",
    "            centroid_idx = find_closest_centroid(datapoint,centroids)\n",
    "    \n",
    "            \n",
    "            # assign datapoint to the closest cluster\n",
    "            clusters[centroid_idx].append(datapoint)\n",
    "        \n",
    "        # keep the current position of centroids before changing them\n",
    "        old_centroids = centroids[:]\n",
    "        \n",
    "        # update centroids\n",
    "        centroids = update_centroids(centroids,clusters)\n",
    "        # if the stop criteria are met, stop the algorithm\n",
    "        if check_converge(centroids, old_centroids, iterations, threshold=0):\n",
    "            break\n",
    "    \n",
    "    return centroids\n"
   ]
  },
  {
   "cell_type": "markdown",
   "metadata": {},
   "source": [
    "Next, we will test our algorithm on [Fisher's Iris dataset](http://en.wikipedia.org/wiki/Iris_flower_data_set), and plot the resulting clusters in 3D."
   ]
  },
  {
   "cell_type": "markdown",
   "metadata": {},
   "source": [
    "<div class='anchor' ></div>\n",
    "\n",
    "#### Question 1.7\n",
    "The code below can be used to test your algorithm with three different datasets: Iris, Moon and Blob.\n",
    "Run your algorithm to cluster datapoints in these datasets, plot the results and discuss about them. Do you think that our algorithm works well? Why?"
   ]
  },
  {
   "cell_type": "code",
   "execution_count": 9,
   "metadata": {
    "collapsed": false
   },
   "outputs": [
    {
     "name": "stderr",
     "output_type": "stream",
     "text": [
      "/opt/conda/lib/python3.4/site-packages/matplotlib/collections.py:590: FutureWarning: elementwise comparison failed; returning scalar instead, but in the future will perform elementwise comparison\n",
      "  if self._edgecolors == str('face'):\n"
     ]
    },
    {
     "data": {
      "image/png": "[encoded data removed]",
      "text/plain": [
       "<matplotlib.figure.Figure at 0x7f80602d69e8>"
      ]
     },
     "metadata": {},
     "output_type": "display_data"
    }
   ],
   "source": [
    "# the sourcecode in this cell is inspired from \n",
    "# https://gist.github.com/bbarrilleaux/9841297\n",
    "\n",
    "%matplotlib inline\n",
    "\n",
    "from sklearn import datasets, cluster\n",
    "import numpy as np\n",
    "import matplotlib.pyplot as plt\n",
    "from mpl_toolkits.mplot3d import Axes3D\n",
    "\n",
    "\n",
    "# load data\n",
    "iris = datasets.load_iris()\n",
    "X_iris = iris.data\n",
    "y_iris = iris.target\n",
    "# do the clustering\n",
    "centers = kmeans(X_iris, k=3)\n",
    "labels = [find_closest_centroid(p, centers) for p in X_iris]\n",
    "\n",
    "#plot the clusters in color\n",
    "fig = plt.figure(1, figsize=(8, 8))\n",
    "plt.clf()\n",
    "ax = Axes3D(fig, rect=[0, 0, 1, 1], elev=8, azim=200)\n",
    "plt.cla()\n",
    "ax.scatter(X_iris[:, 3], X_iris[:, 0], X_iris[:, 2], c=labels)\n",
    "\n",
    "# moon\n",
    "# np.random.seed(0)\n",
    "# X, y = datasets.make_moons(2000, noise=0.2)\n",
    "\n",
    "# blob\n",
    "# np.random.seed(0)\n",
    "# X, y = datasets.make_blobs(n_samples=2000, centers=3, n_features=20, random_state=0)\n",
    "\n",
    "# centers = kmeans(X, k=3)\n",
    "# labels = [find_closest_centroid(p, centers) for p in X]\n",
    "\n",
    "# fig = plt.figure(1, figsize=(8, 8))\n",
    "# plt.clf()\n",
    "# plt.scatter(X[:,0], X[:,1], s=40, c=labels, cmap=plt.cm.Spectral)\n",
    "\n",
    "ax.w_xaxis.set_ticklabels([])\n",
    "ax.w_yaxis.set_ticklabels([])\n",
    "ax.w_zaxis.set_ticklabels([])\n",
    "ax.set_xlabel('Petal width')\n",
    "ax.set_ylabel('Sepal length')\n",
    "ax.set_zlabel('Petal length')\n",
    "\n",
    "plt.show()\n",
    "\n",
    "# Here we use sci-kit learn implementation of K-means\n",
    "# centers =cluster.KMeans(n_clusters=3)\n",
    "# centers.fit(X_iris) \n",
    "# labels = centers2.labels_\n"
   ]
  },
  {
   "cell_type": "markdown",
   "metadata": {},
   "source": [
    "<div class=\"comment\">\n",
    "\n",
    "The red class is clearly different from the 2 others because we can see that all its elements have petal lengths that are much smaller than the 2 other classes. The red also has a small variance in terms of distance to the centroid. Whereas the green and the blue classes have greater variances. \n",
    "\n",
    "</div>"
   ]
  },
  {
   "cell_type": "code",
   "execution_count": null,
   "metadata": {
    "collapsed": false
   },
   "outputs": [],
   "source": []
  },
  {
   "cell_type": "markdown",
   "metadata": {},
   "source": [
    "That's enough about K-means for now. In the next section, we will apply MMLIB's K-means on Spark to deal with a large data in the real usecase.\n"
   ]
  },
  {
   "cell_type": "markdown",
   "metadata": {},
   "source": [
    "# 2. Usecase: Network Intrusion \n",
    "\n",
    "Some attacks attempt to flood a computer with network traffic. In some other cases, attacks attempt to exploit flaws in networking software in order to gain unauthorized access to a computer. Detecting an exploit in an incredibly large haystack of network requests is not easy.\n",
    "\n",
    "Some exploit behaviors follow known patterns such as scanning every port in a short of time, sending a burst of request to a port... However, the biggest threat may be the one that has never been detected and classified yet. Part of detecting potential network intrusions is detecting anomalies. These are connections that aren't known to be attacks, but, do not resemble connections that have been observed in the past.\n",
    "\n",
    "In this notebook, K-means is used to detect anomalous network connections based on statistics about each of them.\n",
    "\n",
    "\n",
    "## 2.1. Data\n",
    "The data comes from [KDD Cup 1999](http://kdd.ics.uci.edu/databases/kddcup99/kddcup99.html). The dataset is about 708MB and contains about 4.9M connections. For each connection, the data set contains information like the number of bytes sent, login attempts, TCP errors, and so on. Each connection is one line of CSV-formatted data, containing 38 features: back, buffer_overflow, ftp_write, guess_passwd, imap, ipsweep, land, loadmodule, multihop, neptune, nmap, normal, perl, phf, pod, portsweep, rootkit, satan, smurf, spy, teardrop, warezclient, warezmaster. For more details about each features, please follow this [link](http://kdd.ics.uci.edu/databases/kddcup99/kddcup99.html).\n",
    "\n",
    "Many features take on the value 0 or 1, indicating the presence or absence of a behavior such as `su_attempted` in the 15th column. Some features are counts, like `num_file_creations` in the 17th columns. Some others are the number of sent and received bytes."
   ]
  },
  {
   "cell_type": "markdown",
   "metadata": {},
   "source": [
    "## 2.2. Clustering without using categorical features\n",
    "\n",
    "First, we need to import some packages that are used in this notebook."
   ]
  },
  {
   "cell_type": "code",
   "execution_count": 10,
   "metadata": {
    "collapsed": false
   },
   "outputs": [],
   "source": [
    "import os\n",
    "import sys\n",
    "import re\n",
    "from pyspark import SparkContext\n",
    "from pyspark import SparkContext\n",
    "from pyspark.sql import SQLContext\n",
    "from pyspark.sql.types import *\n",
    "from pyspark.sql import Row\n",
    "from pyspark.sql.functions import *\n",
    "%matplotlib inline\n",
    "import matplotlib.pyplot as plt\n",
    "import pandas as pd\n",
    "import numpy as np\n",
    "import pyspark.sql.functions as func\n",
    "import matplotlib.patches as mpatches\n",
    "from pyspark.mllib.clustering import KMeans, KMeansModel\n",
    "\n",
    "input_path = \"/datasets/k-means/kddcup.data\"\n",
    "raw_data = sc.textFile(input_path, 12)"
   ]
  },
  {
   "cell_type": "markdown",
   "metadata": {
    "collapsed": false
   },
   "source": [
    "### 2.2.1. Loading data"
   ]
  },
  {
   "cell_type": "markdown",
   "metadata": {},
   "source": [
    "There are two types of features: numerical features and categorical features.\n",
    "Currently, to get familiar with the data and the problem, we only use numerical features. In our data, we also have pre-defined groups for each connection, which we can use later as our \"ground truth\" for verifying our results.\n",
    "\n",
    "**Note 1**: we don't use the labels in the training phase !!!\n",
    "\n",
    "**Note 2**: in general, since clustering is un-supervised, you don't have access to ground truth. For this reason, several metrics to judge the quality of clustering have been devised. For a short overview of such metrics, follow this [link](https://en.wikipedia.org/wiki/Cluster_analysis#Internal_evaluation). Note that computing such metrics, that is trying to assess the quality of your clustering results, is as computationally intensive as computing the clustering itself!"
   ]
  },
  {
   "cell_type": "markdown",
   "metadata": {},
   "source": [
    "![](https://farm2.staticflickr.com/1604/24934700445_833f0a5649_t.jpg)"
   ]
  },
  {
   "cell_type": "markdown",
   "metadata": {},
   "source": [
    "<div class='anchor' ></div>\n",
    "\n",
    "#### Question 2\n",
    "Write function `parseLine` to construct a tuple of `(label, vector)` for each connection, extract the data that contains only the data points (without label), then print the number of connections.\n",
    "\n",
    "Where,\n",
    "\n",
    "* `label` is the pre-defined label of each connection\n",
    "* `vector` is a numpy array that contains values of all features, but the label and the categorial features at index `1,2,3` of each connection. Each `vector` is a data point."
   ]
  },
  {
   "cell_type": "code",
   "execution_count": null,
   "metadata": {
    "collapsed": false
   },
   "outputs": [],
   "source": []
  },
  {
   "cell_type": "code",
   "execution_count": 11,
   "metadata": {
    "collapsed": false
   },
   "outputs": [],
   "source": [
    "def parseLine(line):\n",
    "    print(line)\n",
    "    cols = line.split(\",\")\n",
    "    # label is the last column\n",
    "    label = cols[-1]\n",
    "    \n",
    "    # vector is every column, except the label\n",
    "    vector = cols[:-1]\n",
    "    labelsAndData = raw_data.map(parseLine)\n",
    "# we only need the data, not the label\n",
    "data = labelsAndData.map(lambda x: x[1]).cache()\n",
    "# number of connections\n",
    "    # delete values of columns that have index 1->3 (categorical features)\n",
    "    del vector [1:4]\n",
    "    \n",
    "    # convert each value from string to float\n",
    "    vector = np.array(vector, dtype = 'float')\n",
    "    return (label, vector)\n",
    "\n",
    "labelsAndData = raw_data.map(parseLine)\n",
    "# we only need the data, not the label\n",
    "data = labelsAndData.map(lambda x: x[1]).cache()\n",
    "# number of connections\n",
    "n = data.count()"
   ]
  },
  {
   "cell_type": "markdown",
   "metadata": {},
   "source": [
    "![](https://farm2.staticflickr.com/1604/24934700445_833f0a5649_t.jpg)"
   ]
  },
  {
   "cell_type": "markdown",
   "metadata": {},
   "source": [
    "<div class='anchor' ></div>\n",
    "\n",
    "#### Question 3\n",
    "Using K-means algorithm of MLLIB, cluster the connections into two groups then plot the result. Why two groups? In this case, we are just warming up, we're testing things around, so \"two groups\" has no particular meaning.\n",
    "\n",
    "You can use the following parameters:\n",
    "\n",
    "* `maxIterations=10`\n",
    "* `runs=10`\n",
    "* `initializationMode=\"random\"`\n",
    "\n",
    "Discuss the result from your figure."
   ]
  },
  {
   "cell_type": "code",
   "execution_count": null,
   "metadata": {
    "collapsed": true
   },
   "outputs": [],
   "source": [
    "maxIterations=10\n",
    "runs=10\n",
    "initializationMode=\"random\"\n",
    "k=2\n",
    "# do the clustering\n",
    "clusters = KMeans.train(data, 2, maxIterations=10,runs=10, initializationMode=\"random\")\n",
    "#print(\"Final centers: \" + str(clusters.clusterCenters))\n",
    "#print(\"Total Cost: \" + str(clusters.computeCost(data)))\n",
    "\n",
    "centers = clusters.clusterCenters\n",
    "labels = data.map(lambda p: find_closest_centroid(p, centers)).collect()\n",
    "\n",
    "#plot the clusters in color\n",
    "fig = plt.figure(1, figsize=(8, 8))\n",
    "plt.clf()\n",
    "ax = Axes3D(fig, rect=[0, 0, 1, 1], elev=8, azim=200)\n",
    "plt.cla()\n",
    "\n",
    "x = data.map(lambda x: x[1]).collect()\n",
    "y = data.map(lambda x: x[2]).collect()\n",
    "z = data.map(lambda x: x[3]).collect()\n",
    "ax.scatter(x, y, z, c=labels)\n",
    "\n",
    "\n",
    "ax.w_xaxis.set_ticklabels([])\n",
    "ax.w_yaxis.set_ticklabels([])\n",
    "ax.w_zaxis.set_ticklabels([])\n",
    "ax.set_xlabel('Petal width')\n",
    "ax.set_ylabel('Sepal length')\n",
    "ax.set_zlabel('Petal length')\n",
    "\n",
    "plt.show()\n"
   ]
  },
  {
   "cell_type": "code",
   "execution_count": 12,
   "metadata": {
    "collapsed": false
   },
   "outputs": [],
   "source": [
    "clusters = KMeans.train(data, maxIterations=10,runs=10,initializationMode=\"random\",k=2)\n"
   ]
  },
  {
   "cell_type": "code",
   "execution_count": 65,
   "metadata": {
    "collapsed": false
   },
   "outputs": [
    {
     "ename": "Py4JNetworkError",
     "evalue": "An error occurred while trying to connect to the Java server",
     "output_type": "error",
     "traceback": [
      "\u001b[1;31m\u001b[0m",
      "\u001b[1;31mIndexError\u001b[0mTraceback (most recent call last)",
      "\u001b[1;32m/opt/spark/python/lib/py4j-0.8.2.1-src.zip/py4j/java_gateway.py\u001b[0m in \u001b[0;36m_get_connection\u001b[1;34m(self)\u001b[0m\n\u001b[0;32m    315\u001b[0m         \u001b[1;32mtry\u001b[0m\u001b[1;33m:\u001b[0m\u001b[1;33m\u001b[0m\u001b[0m\n\u001b[1;32m--> 316\u001b[1;33m             \u001b[0mconnection\u001b[0m \u001b[1;33m=\u001b[0m \u001b[0mself\u001b[0m\u001b[1;33m.\u001b[0m\u001b[0mdeque\u001b[0m\u001b[1;33m.\u001b[0m\u001b[0mpop\u001b[0m\u001b[1;33m(\u001b[0m\u001b[1;33m)\u001b[0m\u001b[1;33m\u001b[0m\u001b[0m\n\u001b[0m\u001b[0;32m    317\u001b[0m         \u001b[1;32mexcept\u001b[0m \u001b[0mException\u001b[0m\u001b[1;33m:\u001b[0m\u001b[1;33m\u001b[0m\u001b[0m\n",
      "\u001b[1;31mIndexError\u001b[0m: pop from an empty deque",
      "\nDuring handling of the above exception, another exception occurred:\n",
      "\u001b[1;31mConnectionRefusedError\u001b[0mTraceback (most recent call last)",
      "\u001b[1;32m/opt/spark/python/lib/py4j-0.8.2.1-src.zip/py4j/java_gateway.py\u001b[0m in \u001b[0;36mstart\u001b[1;34m(self)\u001b[0m\n\u001b[0;32m    424\u001b[0m         \u001b[1;32mtry\u001b[0m\u001b[1;33m:\u001b[0m\u001b[1;33m\u001b[0m\u001b[0m\n\u001b[1;32m--> 425\u001b[1;33m             \u001b[0mself\u001b[0m\u001b[1;33m.\u001b[0m\u001b[0msocket\u001b[0m\u001b[1;33m.\u001b[0m\u001b[0mconnect\u001b[0m\u001b[1;33m(\u001b[0m\u001b[1;33m(\u001b[0m\u001b[0mself\u001b[0m\u001b[1;33m.\u001b[0m\u001b[0maddress\u001b[0m\u001b[1;33m,\u001b[0m \u001b[0mself\u001b[0m\u001b[1;33m.\u001b[0m\u001b[0mport\u001b[0m\u001b[1;33m)\u001b[0m\u001b[1;33m)\u001b[0m\u001b[1;33m\u001b[0m\u001b[0m\n\u001b[0m\u001b[0;32m    426\u001b[0m             \u001b[0mself\u001b[0m\u001b[1;33m.\u001b[0m\u001b[0mis_connected\u001b[0m \u001b[1;33m=\u001b[0m \u001b[1;32mTrue\u001b[0m\u001b[1;33m\u001b[0m\u001b[0m\n",
      "\u001b[1;31mConnectionRefusedError\u001b[0m: [Errno 111] Connection refused",
      "\nDuring handling of the above exception, another exception occurred:\n",
      "\u001b[1;31mPy4JNetworkError\u001b[0mTraceback (most recent call last)",
      "\u001b[1;32m<ipython-input-65-1050a9043cd0>\u001b[0m in \u001b[0;36m<module>\u001b[1;34m()\u001b[0m\n\u001b[0;32m      1\u001b[0m \u001b[1;31m# do the clustering\u001b[0m\u001b[1;33m\u001b[0m\u001b[1;33m\u001b[0m\u001b[0m\n\u001b[1;32m----> 2\u001b[1;33m \u001b[0mlabels3\u001b[0m \u001b[1;33m=\u001b[0m \u001b[0mdata\u001b[0m\u001b[1;33m.\u001b[0m\u001b[0mmap\u001b[0m\u001b[1;33m(\u001b[0m\u001b[1;32mlambda\u001b[0m \u001b[0mp\u001b[0m\u001b[1;33m:\u001b[0m \u001b[0mfind_closest_centroid\u001b[0m\u001b[1;33m(\u001b[0m\u001b[0mp\u001b[0m\u001b[1;33m,\u001b[0m \u001b[0mcenters\u001b[0m\u001b[1;33m)\u001b[0m\u001b[1;33m)\u001b[0m\u001b[1;33m.\u001b[0m\u001b[0mcollect\u001b[0m\u001b[1;33m(\u001b[0m\u001b[1;33m)\u001b[0m\u001b[1;33m\u001b[0m\u001b[0m\n\u001b[0m",
      "\u001b[1;32m/opt/spark/python/pyspark/rdd.py\u001b[0m in \u001b[0;36mcollect\u001b[1;34m(self)\u001b[0m\n\u001b[0;32m    770\u001b[0m         \u001b[0mReturn\u001b[0m \u001b[0ma\u001b[0m \u001b[0mlist\u001b[0m \u001b[0mthat\u001b[0m \u001b[0mcontains\u001b[0m \u001b[0mall\u001b[0m \u001b[0mof\u001b[0m \u001b[0mthe\u001b[0m \u001b[0melements\u001b[0m \u001b[1;32min\u001b[0m \u001b[0mthis\u001b[0m \u001b[0mRDD\u001b[0m\u001b[1;33m.\u001b[0m\u001b[1;33m\u001b[0m\u001b[0m\n\u001b[0;32m    771\u001b[0m         \"\"\"\n\u001b[1;32m--> 772\u001b[1;33m         \u001b[1;32mwith\u001b[0m \u001b[0mSCCallSiteSync\u001b[0m\u001b[1;33m(\u001b[0m\u001b[0mself\u001b[0m\u001b[1;33m.\u001b[0m\u001b[0mcontext\u001b[0m\u001b[1;33m)\u001b[0m \u001b[1;32mas\u001b[0m \u001b[0mcss\u001b[0m\u001b[1;33m:\u001b[0m\u001b[1;33m\u001b[0m\u001b[0m\n\u001b[0m\u001b[0;32m    773\u001b[0m             \u001b[0mport\u001b[0m \u001b[1;33m=\u001b[0m \u001b[0mself\u001b[0m\u001b[1;33m.\u001b[0m\u001b[0mctx\u001b[0m\u001b[1;33m.\u001b[0m\u001b[0m_jvm\u001b[0m\u001b[1;33m.\u001b[0m\u001b[0mPythonRDD\u001b[0m\u001b[1;33m.\u001b[0m\u001b[0mcollectAndServe\u001b[0m\u001b[1;33m(\u001b[0m\u001b[0mself\u001b[0m\u001b[1;33m.\u001b[0m\u001b[0m_jrdd\u001b[0m\u001b[1;33m.\u001b[0m\u001b[0mrdd\u001b[0m\u001b[1;33m(\u001b[0m\u001b[1;33m)\u001b[0m\u001b[1;33m)\u001b[0m\u001b[1;33m\u001b[0m\u001b[0m\n\u001b[0;32m    774\u001b[0m         \u001b[1;32mreturn\u001b[0m \u001b[0mlist\u001b[0m\u001b[1;33m(\u001b[0m\u001b[0m_load_from_socket\u001b[0m\u001b[1;33m(\u001b[0m\u001b[0mport\u001b[0m\u001b[1;33m,\u001b[0m \u001b[0mself\u001b[0m\u001b[1;33m.\u001b[0m\u001b[0m_jrdd_deserializer\u001b[0m\u001b[1;33m)\u001b[0m\u001b[1;33m)\u001b[0m\u001b[1;33m\u001b[0m\u001b[0m\n",
      "\u001b[1;32m/opt/spark/python/pyspark/traceback_utils.py\u001b[0m in \u001b[0;36m__enter__\u001b[1;34m(self)\u001b[0m\n\u001b[0;32m     70\u001b[0m     \u001b[1;32mdef\u001b[0m \u001b[0m__enter__\u001b[0m\u001b[1;33m(\u001b[0m\u001b[0mself\u001b[0m\u001b[1;33m)\u001b[0m\u001b[1;33m:\u001b[0m\u001b[1;33m\u001b[0m\u001b[0m\n\u001b[0;32m     71\u001b[0m         \u001b[1;32mif\u001b[0m \u001b[0mSCCallSiteSync\u001b[0m\u001b[1;33m.\u001b[0m\u001b[0m_spark_stack_depth\u001b[0m \u001b[1;33m==\u001b[0m \u001b[1;36m0\u001b[0m\u001b[1;33m:\u001b[0m\u001b[1;33m\u001b[0m\u001b[0m\n\u001b[1;32m---> 72\u001b[1;33m             \u001b[0mself\u001b[0m\u001b[1;33m.\u001b[0m\u001b[0m_context\u001b[0m\u001b[1;33m.\u001b[0m\u001b[0m_jsc\u001b[0m\u001b[1;33m.\u001b[0m\u001b[0msetCallSite\u001b[0m\u001b[1;33m(\u001b[0m\u001b[0mself\u001b[0m\u001b[1;33m.\u001b[0m\u001b[0m_call_site\u001b[0m\u001b[1;33m)\u001b[0m\u001b[1;33m\u001b[0m\u001b[0m\n\u001b[0m\u001b[0;32m     73\u001b[0m         \u001b[0mSCCallSiteSync\u001b[0m\u001b[1;33m.\u001b[0m\u001b[0m_spark_stack_depth\u001b[0m \u001b[1;33m+=\u001b[0m \u001b[1;36m1\u001b[0m\u001b[1;33m\u001b[0m\u001b[0m\n\u001b[0;32m     74\u001b[0m \u001b[1;33m\u001b[0m\u001b[0m\n",
      "\u001b[1;32m/opt/spark/python/lib/py4j-0.8.2.1-src.zip/py4j/java_gateway.py\u001b[0m in \u001b[0;36m__call__\u001b[1;34m(self, *args)\u001b[0m\n\u001b[0;32m    534\u001b[0m             \u001b[0mEND_COMMAND_PART\u001b[0m\u001b[1;33m\u001b[0m\u001b[0m\n\u001b[0;32m    535\u001b[0m \u001b[1;33m\u001b[0m\u001b[0m\n\u001b[1;32m--> 536\u001b[1;33m         \u001b[0manswer\u001b[0m \u001b[1;33m=\u001b[0m \u001b[0mself\u001b[0m\u001b[1;33m.\u001b[0m\u001b[0mgateway_client\u001b[0m\u001b[1;33m.\u001b[0m\u001b[0msend_command\u001b[0m\u001b[1;33m(\u001b[0m\u001b[0mcommand\u001b[0m\u001b[1;33m)\u001b[0m\u001b[1;33m\u001b[0m\u001b[0m\n\u001b[0m\u001b[0;32m    537\u001b[0m         return_value = get_return_value(answer, self.gateway_client,\n\u001b[0;32m    538\u001b[0m                 self.target_id, self.name)\n",
      "\u001b[1;32m/opt/spark/python/lib/py4j-0.8.2.1-src.zip/py4j/java_gateway.py\u001b[0m in \u001b[0;36msend_command\u001b[1;34m(self, command, retry)\u001b[0m\n\u001b[0;32m    360\u001b[0m          \u001b[0mthe\u001b[0m \u001b[0mPy4J\u001b[0m \u001b[0mprotocol\u001b[0m\u001b[1;33m.\u001b[0m\u001b[1;33m\u001b[0m\u001b[0m\n\u001b[0;32m    361\u001b[0m         \"\"\"\n\u001b[1;32m--> 362\u001b[1;33m         \u001b[0mconnection\u001b[0m \u001b[1;33m=\u001b[0m \u001b[0mself\u001b[0m\u001b[1;33m.\u001b[0m\u001b[0m_get_connection\u001b[0m\u001b[1;33m(\u001b[0m\u001b[1;33m)\u001b[0m\u001b[1;33m\u001b[0m\u001b[0m\n\u001b[0m\u001b[0;32m    363\u001b[0m         \u001b[1;32mtry\u001b[0m\u001b[1;33m:\u001b[0m\u001b[1;33m\u001b[0m\u001b[0m\n\u001b[0;32m    364\u001b[0m             \u001b[0mresponse\u001b[0m \u001b[1;33m=\u001b[0m \u001b[0mconnection\u001b[0m\u001b[1;33m.\u001b[0m\u001b[0msend_command\u001b[0m\u001b[1;33m(\u001b[0m\u001b[0mcommand\u001b[0m\u001b[1;33m)\u001b[0m\u001b[1;33m\u001b[0m\u001b[0m\n",
      "\u001b[1;32m/opt/spark/python/lib/py4j-0.8.2.1-src.zip/py4j/java_gateway.py\u001b[0m in \u001b[0;36m_get_connection\u001b[1;34m(self)\u001b[0m\n\u001b[0;32m    316\u001b[0m             \u001b[0mconnection\u001b[0m \u001b[1;33m=\u001b[0m \u001b[0mself\u001b[0m\u001b[1;33m.\u001b[0m\u001b[0mdeque\u001b[0m\u001b[1;33m.\u001b[0m\u001b[0mpop\u001b[0m\u001b[1;33m(\u001b[0m\u001b[1;33m)\u001b[0m\u001b[1;33m\u001b[0m\u001b[0m\n\u001b[0;32m    317\u001b[0m         \u001b[1;32mexcept\u001b[0m \u001b[0mException\u001b[0m\u001b[1;33m:\u001b[0m\u001b[1;33m\u001b[0m\u001b[0m\n\u001b[1;32m--> 318\u001b[1;33m             \u001b[0mconnection\u001b[0m \u001b[1;33m=\u001b[0m \u001b[0mself\u001b[0m\u001b[1;33m.\u001b[0m\u001b[0m_create_connection\u001b[0m\u001b[1;33m(\u001b[0m\u001b[1;33m)\u001b[0m\u001b[1;33m\u001b[0m\u001b[0m\n\u001b[0m\u001b[0;32m    319\u001b[0m         \u001b[1;32mreturn\u001b[0m \u001b[0mconnection\u001b[0m\u001b[1;33m\u001b[0m\u001b[0m\n\u001b[0;32m    320\u001b[0m \u001b[1;33m\u001b[0m\u001b[0m\n",
      "\u001b[1;32m/opt/spark/python/lib/py4j-0.8.2.1-src.zip/py4j/java_gateway.py\u001b[0m in \u001b[0;36m_create_connection\u001b[1;34m(self)\u001b[0m\n\u001b[0;32m    323\u001b[0m         connection = GatewayConnection(self.address, self.port,\n\u001b[0;32m    324\u001b[0m                 self.auto_close, self.gateway_property)\n\u001b[1;32m--> 325\u001b[1;33m         \u001b[0mconnection\u001b[0m\u001b[1;33m.\u001b[0m\u001b[0mstart\u001b[0m\u001b[1;33m(\u001b[0m\u001b[1;33m)\u001b[0m\u001b[1;33m\u001b[0m\u001b[0m\n\u001b[0m\u001b[0;32m    326\u001b[0m         \u001b[1;32mreturn\u001b[0m \u001b[0mconnection\u001b[0m\u001b[1;33m\u001b[0m\u001b[0m\n\u001b[0;32m    327\u001b[0m \u001b[1;33m\u001b[0m\u001b[0m\n",
      "\u001b[1;32m/opt/spark/python/lib/py4j-0.8.2.1-src.zip/py4j/java_gateway.py\u001b[0m in \u001b[0;36mstart\u001b[1;34m(self)\u001b[0m\n\u001b[0;32m    430\u001b[0m                 \u001b[1;34m'server'\u001b[0m\u001b[1;33m\u001b[0m\u001b[0m\n\u001b[0;32m    431\u001b[0m             \u001b[0mlogger\u001b[0m\u001b[1;33m.\u001b[0m\u001b[0mexception\u001b[0m\u001b[1;33m(\u001b[0m\u001b[0mmsg\u001b[0m\u001b[1;33m)\u001b[0m\u001b[1;33m\u001b[0m\u001b[0m\n\u001b[1;32m--> 432\u001b[1;33m             \u001b[1;32mraise\u001b[0m \u001b[0mPy4JNetworkError\u001b[0m\u001b[1;33m(\u001b[0m\u001b[0mmsg\u001b[0m\u001b[1;33m)\u001b[0m\u001b[1;33m\u001b[0m\u001b[0m\n\u001b[0m\u001b[0;32m    433\u001b[0m \u001b[1;33m\u001b[0m\u001b[0m\n\u001b[0;32m    434\u001b[0m     \u001b[1;32mdef\u001b[0m \u001b[0mclose\u001b[0m\u001b[1;33m(\u001b[0m\u001b[0mself\u001b[0m\u001b[1;33m)\u001b[0m\u001b[1;33m:\u001b[0m\u001b[1;33m\u001b[0m\u001b[0m\n",
      "\u001b[1;31mPy4JNetworkError\u001b[0m: An error occurred while trying to connect to the Java server"
     ]
    }
   ],
   "source": [
    "# do the clustering\n",
    "labels3 = data.map(lambda p: find_closest_centroid(p, centers)).collect()\n"
   ]
  },
  {
   "cell_type": "code",
   "execution_count": 14,
   "metadata": {
    "collapsed": false
   },
   "outputs": [],
   "source": [
    "\n",
    "#collect first 3 features\n",
    "features0=data.map(lambda x:x[0]).collect()\n",
    "features1=data.map(lambda x:x[1]).collect()\n",
    "features2=data.map(lambda x:x[2]).collect()"
   ]
  },
  {
   "cell_type": "code",
   "execution_count": null,
   "metadata": {
    "collapsed": false,
    "scrolled": true
   },
   "outputs": [
    {
     "name": "stderr",
     "output_type": "stream",
     "text": [
      "/opt/conda/lib/python3.4/site-packages/matplotlib/collections.py:590: FutureWarning: elementwise comparison failed; returning scalar instead, but in the future will perform elementwise comparison\n",
      "  if self._edgecolors == str('face'):\n"
     ]
    }
   ],
   "source": [
    "#plot the clusters in color\n",
    "fig = plt.figure(1, figsize=(8, 8))\n",
    "plt.clf()\n",
    "ax = Axes3D(fig, rect=[0, 0, 1, 1], elev=8, azim=200)\n",
    "plt.cla()\n",
    "ax.scatter(features0, features1,features2, c=labels3)\n",
    "\n",
    "\n",
    "ax.w_xaxis.set_ticklabels([])\n",
    "ax.w_yaxis.set_ticklabels([])\n",
    "ax.w_zaxis.set_ticklabels([])\n",
    "\n",
    "plt.show()"
   ]
  },
  {
   "cell_type": "markdown",
   "metadata": {},
   "source": [
    "<div class=\"answer\">\n",
    "\n",
    "We have tried to make a 3D scatter plot of the clusters by selectinf the first 3 features. However, the kernel died everytime every we did it even if we could not find any mistake in our code.\n",
    "\n",
    "</div>"
   ]
  },
  {
   "cell_type": "markdown",
   "metadata": {},
   "source": [
    "### 2.2.3. Evaluating model"
   ]
  },
  {
   "cell_type": "code",
   "execution_count": null,
   "metadata": {
    "collapsed": true
   },
   "outputs": [],
   "source": []
  },
  {
   "cell_type": "markdown",
   "metadata": {},
   "source": [
    "![](https://farm2.staticflickr.com/1604/24934700445_833f0a5649_t.jpg)"
   ]
  },
  {
   "cell_type": "markdown",
   "metadata": {},
   "source": [
    "<div class='anchor' ></div>\n",
    "\n",
    "#### Question 4\n",
    "\n",
    "One of the simplest method to evaluate our result is calculate the Within Set Sum of Squared Errors (WSSSE), or simply, 'Sum of Squared Errors'. An error of a data point is defined as it's distance to the closest cluster center.\n"
   ]
  },
  {
   "cell_type": "code",
   "execution_count": 15,
   "metadata": {
    "collapsed": false
   },
   "outputs": [
    {
     "name": "stdout",
     "output_type": "stream",
     "text": [
      "Within Set Sum of Squared Error = 6.37941581178e+18\n"
     ]
    }
   ],
   "source": [
    "from operator import add\n",
    "\n",
    "# Evaluate clustering by computing Within Set Sum of Squared Errors\n",
    "\n",
    "def error(clusters, point):\n",
    "    closest_center = find_closest_centroid(point,clusters.clusterCenters)\n",
    "    return euclidean_distance(closest_center,point)\n",
    "\n",
    "WSSSE = data.map(lambda point : (error(clusters,point))**2).reduce(add)\n",
    "print(\"Within Set Sum of Squared Error = \" + str(WSSSE))"
   ]
  },
  {
   "cell_type": "markdown",
   "metadata": {},
   "source": [
    "![](https://farm2.staticflickr.com/1604/24934700445_833f0a5649_t.jpg)"
   ]
  },
  {
   "cell_type": "markdown",
   "metadata": {},
   "source": [
    "<div class='anchor' ></div>\n",
    "\n",
    "#### Question 5\n",
    "This is a good opportunity to use the given labels to get an intuitive sense of what went into these two clusters, by counting the labels within each cluster. Complete the following code that uses the model to assign each data point to a cluster, and counts occurrences of cluster and label pairs.\n",
    "What do you think about the result ?"
   ]
  },
  {
   "cell_type": "code",
   "execution_count": null,
   "metadata": {
    "collapsed": true
   },
   "outputs": [],
   "source": []
  },
  {
   "cell_type": "code",
   "execution_count": 18,
   "metadata": {
    "collapsed": false
   },
   "outputs": [
    {
     "name": "stdout",
     "output_type": "stream",
     "text": [
      "((0, 'back.'), 2203)\n",
      "((0, 'nmap.'), 2316)\n",
      "((0, 'smurf.'), 2807886)\n",
      "((0, 'rootkit.'), 10)\n",
      "((0, 'ftp_write.'), 8)\n",
      "((0, 'perl.'), 3)\n",
      "((0, 'pod.'), 264)\n",
      "((0, 'guess_passwd.'), 53)\n",
      "((0, 'warezclient.'), 1020)\n",
      "((0, 'buffer_overflow.'), 30)\n",
      "((0, 'multihop.'), 7)\n",
      "((1, 'portsweep.'), 5)\n",
      "((0, 'loadmodule.'), 9)\n",
      "((0, 'warezmaster.'), 20)\n",
      "((0, 'imap.'), 12)\n",
      "((0, 'neptune.'), 1072017)\n",
      "((0, 'teardrop.'), 979)\n",
      "((0, 'satan.'), 15892)\n",
      "((0, 'normal.'), 972781)\n",
      "((0, 'spy.'), 2)\n",
      "((0, 'ipsweep.'), 12481)\n",
      "((0, 'land.'), 21)\n",
      "((0, 'portsweep.'), 10408)\n",
      "((0, 'phf.'), 4)\n"
     ]
    }
   ],
   "source": [
    "clusterLabelCount = labelsAndData.map(lambda point : ((clusters.predict(point[1]),point[0]),1)).countByKey().items()\n",
    "\n",
    "for item in clusterLabelCount:\n",
    "    print(item)\n"
   ]
  },
  {
   "cell_type": "code",
   "execution_count": null,
   "metadata": {
    "collapsed": false
   },
   "outputs": [],
   "source": []
  },
  {
   "cell_type": "markdown",
   "metadata": {},
   "source": [
    "<div class='comment' >\n",
    "\n",
    "With k=2, the 2 classes are : some 'portsweep' attacks and the other attacks. The model did this, probably because those 'portsweep' attacks are the most different attacks from the others, in term of euclidian distance. However, those attacks are rare (only 5) amongst the 4898431 attacks.\n",
    "\n",
    "\n",
    "We should increase k to classify the other attacks.\n",
    "\n",
    "</div>"
   ]
  },
  {
   "cell_type": "markdown",
   "metadata": {},
   "source": [
    "### 2.2.4. Choosing K\n",
    "\n",
    "How many clusters are appropriate for a dataset? In particular, for our own dataset, it's clear that there are 23 distinct behavior patterns in the data, so it seems that k could be at least 23, or likely, even more. In other cases, we even don't have any information about the number of patterns at all (remember, generally your data is not labelled!). Our task now is finding a good value of $k$. For doing that, we have to build and evaluate models with different values of $k$. A clustering could be considered good if each data point were near to its closest centroid. One of the ways to evaluate a model is calculating the Mean of Squared Errors of all data points."
   ]
  },
  {
   "cell_type": "markdown",
   "metadata": {},
   "source": [
    "![](https://farm2.staticflickr.com/1604/24934700445_833f0a5649_t.jpg)"
   ]
  },
  {
   "cell_type": "markdown",
   "metadata": {},
   "source": [
    "<div class='anchor' ></div>\n",
    "\n",
    "#### Question 6\n",
    "Complete the function below to calculate the MSE of each model that is corresponding to each value of $k$.\n",
    "Plot the results. From the obtained result, what is the best value for $k$ ? Why ?"
   ]
  },
  {
   "cell_type": "code",
   "execution_count": 16,
   "metadata": {
    "collapsed": true
   },
   "outputs": [],
   "source": [
    "# k: the number of clusters\n",
    "def clusteringScore(data, k):\n",
    "    clusters = KMeans.train(data, maxIterations=10,runs=10,initializationMode=\"random\",k=k)\n",
    "    # calculate mean square error\n",
    "    return data.map(lambda point : (error(clusters,point))**2).reduce(add)/n\n"
   ]
  },
  {
   "cell_type": "code",
   "execution_count": 22,
   "metadata": {
    "collapsed": false
   },
   "outputs": [
    {
     "name": "stdout",
     "output_type": "stream",
     "text": [
      "1.30233852766e+12\n",
      "1.30233850418e+12\n",
      "1.3023384748e+12\n",
      "1.30233843053e+12\n"
     ]
    },
    {
     "data": {
      "text/plain": [
       "[<matplotlib.lines.Line2D at 0x7f771de3e860>]"
      ]
     },
     "execution_count": 22,
     "metadata": {},
     "output_type": "execute_result"
    },
    {
     "data": {
      "image/png": "[encoded data removed]",
      "text/plain": [
       "<matplotlib.figure.Figure at 0x7f771dec6198>"
      ]
     },
     "metadata": {},
     "output_type": "display_data"
    }
   ],
   "source": [
    "\n",
    "k_array=[23,30,40,50]\n",
    "scores = [clusteringScore(data,k) for k in k_array]\n",
    "for score in scores:\n",
    "    print(score)\n",
    "    \n",
    "# plot results\n",
    "plt.bar(scores)"
   ]
  },
  {
   "cell_type": "code",
   "execution_count": null,
   "metadata": {
    "collapsed": false
   },
   "outputs": [],
   "source": []
  },
  {
   "cell_type": "code",
   "execution_count": 23,
   "metadata": {
    "collapsed": false
   },
   "outputs": [
    {
     "name": "stdout",
     "output_type": "stream",
     "text": [
      "50\n"
     ]
    }
   ],
   "source": [
    "best_k=k_array[np.argmin(scores)]\n",
    "print(best_k)"
   ]
  },
  {
   "cell_type": "markdown",
   "metadata": {},
   "source": [
    "<div class=\"answer\">\n",
    "\n",
    "In the interval [23,50], when k increases, the score increases. However, it is not relevant to compute the score with non normalized data because only a few features are taken into account.\n",
    "</div>"
   ]
  },
  {
   "cell_type": "markdown",
   "metadata": {},
   "source": [
    "### 2.2.5 Normalizing features\n",
    "\n",
    "K-means clustering treats equally all dimensions/directions of the space and therefore tends to produce more or less spherical (rather than elongated) clusters. In this situation, leaving variances uneven is equivalent to putting more weight on variables with smaller variance, so clusters will tend to be separated along variables with greater variance.\n",
    "\n",
    "In our notebook, since Euclidean distance is used, the clusters will be influenced strongly by the magnitudes of the variables, especially by outliers. Normalizing will remove this bias. \n",
    "\n",
    "Each feature can be normalized by converting it to a standard score. This means subtracting the mean of the feature’s values from each value, and dividing by the standard deviation\n",
    "\n",
    "$normalize_i=\\frac{feature_i - \\mu_i}{\\sigma_i}$\n",
    "\n",
    "Where,\n",
    "\n",
    "* $normalize_i$ is the normalized value of feature $i$\n",
    "* $\\mu_i$ is the mean of feature $i$\n",
    "* $\\sigma_i$ is the standard deviation of feature $i$\n"
   ]
  },
  {
   "cell_type": "markdown",
   "metadata": {},
   "source": [
    "![](https://farm2.staticflickr.com/1604/24934700445_833f0a5649_t.jpg)"
   ]
  },
  {
   "cell_type": "markdown",
   "metadata": {},
   "source": [
    "<div class='anchor' ></div>\n",
    "#### Question 7\n",
    "\n",
    "Complete the code below to normalize the data. Print the first 5 lines of the new data.\n",
    "\n",
    "HINT: If $\\sigma_i = 0$ then $normalize_i=feature_i - \\mu_i$"
   ]
  },
  {
   "cell_type": "code",
   "execution_count": 17,
   "metadata": {
    "collapsed": false
   },
   "outputs": [
    {
     "name": "stdout",
     "output_type": "stream",
     "text": [
      "Sums:\n",
      "[  2.36802060e+08   8.98676524e+09   5.35703589e+09   2.80000000e+01\n",
      "   3.17800000e+03   3.90000000e+01   6.09250000e+04   1.57000000e+02\n",
      "   7.03067000e+05   3.96200000e+04   3.34000000e+02   1.80000000e+02\n",
      "   6.33610000e+04   5.82300000e+03   3.64000000e+02   5.00200000e+03\n",
      "   0.00000000e+00   2.00000000e+00   4.09100000e+03   1.64084428e+09\n",
      "   1.44634545e+09   8.71775140e+05   8.72101730e+05   2.82468470e+05\n",
      "   2.82786920e+05   3.86919313e+06   1.03746840e+05   1.38433600e+05\n",
      "   1.14124176e+09   9.26852923e+08   3.69201228e+06   1.50436230e+05\n",
      "   2.96380553e+06   3.16639800e+04   8.72367200e+05   8.71361620e+05\n",
      "   2.83755350e+05   2.82440660e+05]\n",
      "Standard deviations:\n",
      "[723.32973742185243, 941430.9783959724, 645012.2679038489, 0.0023908331945139221, 0.042854332380644976, 0.0072150829487002072, 0.46897811671855966, 0.0072994068308511288, 0.35061152330892831, 3.8564806416816491, 0.008257145344809055, 0.0080824309543371092, 3.9380748990327916, 0.12418573580599858, 0.0087375887179557046, 0.035510477731832565, 1, 0.00063897874456691518, 0.028887157723317156, 211.99076084183977, 245.9926850690882, 0.3818755525573157, 0.38225404703415644, 0.23225289950425509, 0.23266037928854633, 0.38929579765362116, 0.082714575134133106, 0.14055955047891686, 64.020930815704588, 105.91275654025918, 0.41118597274571073, 0.10854320270280772, 0.4809876690941377, 0.041259775034579865, 0.38183816769545231, 0.38217739927364924, 0.23094279563806483, 0.23097768597320956]\n",
      "[array([ -6.68331854e-02,  -1.72038228e-03,   6.81884351e-02,\n",
      "        -2.39084686e-03,  -1.51391734e-02,  -1.10348462e-03,\n",
      "        -2.65207600e-02,  -4.39091558e-03,   2.44279187e+00,\n",
      "        -2.09732783e-03,  -8.25770840e-03,  -4.54646139e-03,\n",
      "        -3.28458917e-03,  -9.57233922e-03,  -8.50457842e-03,\n",
      "        -2.87561127e-02,   0.00000000e+00,  -6.38979005e-04,\n",
      "        -2.89113034e-02,  -1.57541507e+00,  -1.19624324e+00,\n",
      "        -4.66042614e-01,  -4.65755574e-01,  -2.48285775e-01,\n",
      "        -2.48130352e-01,   5.39733093e-01,  -2.56056520e-01,\n",
      "        -2.01059296e-01,  -3.63913926e+00,  -1.78651044e+00,\n",
      "        -1.83302273e+00,  -2.82939000e-01,  -1.25793664e+00,\n",
      "        -1.56668488e-01,  -4.66404784e-01,  -4.65453641e-01,\n",
      "        -2.50831829e-01,  -2.49631966e-01]), array([ -6.68331854e-02,  -1.77667956e-03,   5.32451452e-03,\n",
      "        -2.39084686e-03,  -1.51391734e-02,  -1.10348462e-03,\n",
      "        -2.65207600e-02,  -4.39091558e-03,   2.44279187e+00,\n",
      "        -2.09732783e-03,  -8.25770840e-03,  -4.54646139e-03,\n",
      "        -3.28458917e-03,  -9.57233922e-03,  -8.50457842e-03,\n",
      "        -2.87561127e-02,   0.00000000e+00,  -6.38979005e-04,\n",
      "        -2.89113034e-02,  -1.57069789e+00,  -1.19217808e+00,\n",
      "        -4.66042614e-01,  -4.65755574e-01,  -2.48285775e-01,\n",
      "        -2.48130352e-01,   5.39733093e-01,  -2.56056520e-01,\n",
      "        -2.01059296e-01,  -3.62351937e+00,  -1.77706870e+00,\n",
      "         5.98966843e-01,  -2.82939000e-01,   8.21118739e-01,\n",
      "        -1.56668488e-01,  -4.66404784e-01,  -4.65453641e-01,\n",
      "        -2.50831829e-01,  -2.49631966e-01]), array([ -6.68331854e-02,  -1.69807581e-03,   2.08332760e-04,\n",
      "        -2.39084686e-03,  -1.51391734e-02,  -1.10348462e-03,\n",
      "        -2.65207600e-02,  -4.39091558e-03,   2.44279187e+00,\n",
      "        -2.09732783e-03,  -8.25770840e-03,  -4.54646139e-03,\n",
      "        -3.28458917e-03,  -9.57233922e-03,  -8.50457842e-03,\n",
      "        -2.87561127e-02,   0.00000000e+00,  -6.38979005e-04,\n",
      "        -2.89113034e-02,  -1.57541507e+00,  -1.19624324e+00,\n",
      "        -4.66042614e-01,  -4.65755574e-01,  -2.48285775e-01,\n",
      "        -2.48130352e-01,   5.39733093e-01,  -2.56056520e-01,\n",
      "        -2.01059296e-01,  -3.60789948e+00,  -1.76762697e+00,\n",
      "         5.98966843e-01,  -2.82939000e-01,  -2.18408950e-01,\n",
      "        -1.56668488e-01,  -4.66404784e-01,  -4.65453641e-01,\n",
      "        -2.50831829e-01,  -2.49631966e-01]), array([ -6.68331854e-02,  -1.70126245e-03,   1.45482068e-03,\n",
      "        -2.39084686e-03,  -1.51391734e-02,  -1.10348462e-03,\n",
      "        -2.65207600e-02,  -4.39091558e-03,   2.44279187e+00,\n",
      "        -2.09732783e-03,  -8.25770840e-03,  -4.54646139e-03,\n",
      "        -3.28458917e-03,  -9.57233922e-03,  -8.50457842e-03,\n",
      "        -2.87561127e-02,   0.00000000e+00,  -6.38979005e-04,\n",
      "        -2.89113034e-02,  -1.57069789e+00,  -1.19217808e+00,\n",
      "        -4.66042614e-01,  -4.65755574e-01,  -2.48285775e-01,\n",
      "        -2.48130352e-01,   5.39733093e-01,  -2.56056520e-01,\n",
      "        -2.01059296e-01,  -3.59227958e+00,  -1.75818524e+00,\n",
      "         5.98966843e-01,  -2.82939000e-01,  -5.71848364e-01,\n",
      "        -1.56668488e-01,  -4.66404784e-01,  -4.65453641e-01,\n",
      "        -2.50831829e-01,  -2.49631966e-01]), array([ -6.68331854e-02,  -1.69488918e-03,  -9.42032957e-04,\n",
      "        -2.39084686e-03,  -1.51391734e-02,  -1.10348462e-03,\n",
      "        -2.65207600e-02,  -4.39091558e-03,   2.44279187e+00,\n",
      "        -2.09732783e-03,  -8.25770840e-03,  -4.54646139e-03,\n",
      "        -3.28458917e-03,  -9.57233922e-03,  -8.50457842e-03,\n",
      "        -2.87561127e-02,   0.00000000e+00,  -6.38979005e-04,\n",
      "        -2.89113034e-02,  -1.56598070e+00,  -1.18811292e+00,\n",
      "        -4.66042614e-01,  -4.65755574e-01,  -2.48285775e-01,\n",
      "        -2.48130352e-01,   5.39733093e-01,  -2.56056520e-01,\n",
      "        -2.01059296e-01,  -3.57665969e+00,  -1.74874350e+00,\n",
      "         5.98966843e-01,  -2.82939000e-01,  -7.38172794e-01,\n",
      "        -1.56668488e-01,  -4.66404784e-01,  -4.65453641e-01,\n",
      "        -2.50831829e-01,  -2.49631966e-01])]\n"
     ]
    }
   ],
   "source": [
    "def normalizeData(data):\n",
    "    # number of connections\n",
    "    n = data.count()\n",
    "\n",
    "    # calculate the sum of each feature\n",
    "    sums = data.sum()\n",
    "    print(\"Sums:\")\n",
    "    print(sums)\n",
    "\n",
    "    # calculate means\n",
    "    means = data.mean()\n",
    "\n",
    "    # calculate the sum square of each feature\n",
    "    #sumSquares = data.map(lambda line: [x**2 for x in line]).sum()\n",
    "    #print(sumSquares)\n",
    "\n",
    "    # calculate standard deviation of each feature\n",
    "    stdevs = data.stdev()\n",
    "    stdevs=[stdev if stdev!=0 else 1 for stdev in stdevs]\n",
    "    print(\"Standard deviations:\")\n",
    "    print(stdevs)\n",
    "\n",
    "    def normalize(point):\n",
    "        return np.asarray((point-means)/stdevs)\n",
    "\n",
    "    return data.map(normalize)\n",
    "\n",
    "normalizedData = normalizeData(data).cache()\n",
    "print(normalizedData.take(5))\n"
   ]
  },
  {
   "cell_type": "code",
   "execution_count": null,
   "metadata": {
    "collapsed": false
   },
   "outputs": [],
   "source": []
  },
  {
   "cell_type": "markdown",
   "metadata": {},
   "source": [
    "![](https://farm2.staticflickr.com/1604/24934700445_833f0a5649_t.jpg)"
   ]
  },
  {
   "cell_type": "markdown",
   "metadata": {},
   "source": [
    "<div class='anchor' ></div>\n",
    "\n",
    "#### Question 8\n",
    "Using the new data, build different models with different values of $k \\in [60,70,80,90,100,110]$. Evaluate the results by plotting them and choose the best value of $k$."
   ]
  },
  {
   "cell_type": "code",
   "execution_count": 32,
   "metadata": {
    "collapsed": false
   },
   "outputs": [
    {
     "name": "stdout",
     "output_type": "stream",
     "text": [
      "39130.3226344\n",
      "65650.939984\n",
      "58200.0358308\n",
      "88887.4709104\n",
      "70841.7953786\n",
      "103359.922489\n"
     ]
    },
    {
     "ename": "TypeError",
     "evalue": "bar() missing 1 required positional argument: 'height'",
     "output_type": "error",
     "traceback": [
      "\u001b[1;31m\u001b[0m",
      "\u001b[1;31mTypeError\u001b[0mTraceback (most recent call last)",
      "\u001b[1;32m<ipython-input-32-77ee06e58a29>\u001b[0m in \u001b[0;36m<module>\u001b[1;34m()\u001b[0m\n\u001b[0;32m      6\u001b[0m     \u001b[0mprint\u001b[0m\u001b[1;33m(\u001b[0m\u001b[0mscore\u001b[0m\u001b[1;33m)\u001b[0m\u001b[1;33m\u001b[0m\u001b[0m\n\u001b[0;32m      7\u001b[0m \u001b[1;33m\u001b[0m\u001b[0m\n\u001b[1;32m----> 8\u001b[1;33m \u001b[0mplt\u001b[0m\u001b[1;33m.\u001b[0m\u001b[0mbar\u001b[0m\u001b[1;33m(\u001b[0m\u001b[0mscores\u001b[0m\u001b[1;33m)\u001b[0m\u001b[1;33m\u001b[0m\u001b[0m\n\u001b[0m",
      "\u001b[1;31mTypeError\u001b[0m: bar() missing 1 required positional argument: 'height'"
     ]
    }
   ],
   "source": [
    "from operator import add\n",
    "k_array=[60,70,80,90,100,110]\n",
    "\n",
    "scores = [clusteringScore(normalizedData,k) for k in k_array]\n",
    "for score in scores:\n",
    "    print(score)\n"
   ]
  },
  {
   "cell_type": "code",
   "execution_count": 58,
   "metadata": {
    "collapsed": false
   },
   "outputs": [],
   "source": [
    "k_array=[60,70,80,90,100,110]\n",
    "scores=[39130.3226344,65650.939984,58200.0358308,88887.4709104,70841.7953786,103359.922489]"
   ]
  },
  {
   "cell_type": "code",
   "execution_count": 59,
   "metadata": {
    "collapsed": false
   },
   "outputs": [
    {
     "data": {
      "text/plain": [
       "[<matplotlib.lines.Line2D at 0x7f7fb8c74cc0>]"
      ]
     },
     "execution_count": 59,
     "metadata": {},
     "output_type": "execute_result"
    },
    {
     "data": {
      "image/png": "[encoded data removed]",
      "text/plain": [
       "<matplotlib.figure.Figure at 0x7f7fb8cb60f0>"
      ]
     },
     "metadata": {},
     "output_type": "display_data"
    }
   ],
   "source": [
    "\n",
    "plt.plot(k_array,scores)"
   ]
  },
  {
   "cell_type": "code",
   "execution_count": 35,
   "metadata": {
    "collapsed": false
   },
   "outputs": [
    {
     "name": "stdout",
     "output_type": "stream",
     "text": [
      "60\n"
     ]
    }
   ],
   "source": [
    "best_k=k_array[np.argmin(scores)]\n",
    "print(best_k)"
   ]
  },
  {
   "cell_type": "markdown",
   "metadata": {},
   "source": [
    "<div class='answer'>\n",
    "\n",
    "We observe that the score increases when we increase k. So, here, the best k is the smallest, 60. \n",
    "\n",
    "We can notice that, here the order of the scores is 10^5 which is much smaller compared to question 6. Indeed the data is normalized and takes much smaller values.\n",
    "\n",
    "</div>"
   ]
  },
  {
   "cell_type": "markdown",
   "metadata": {},
   "source": [
    "![](https://farm2.staticflickr.com/1604/24934700445_833f0a5649_t.jpg)"
   ]
  },
  {
   "cell_type": "markdown",
   "metadata": {},
   "source": [
    "<div class='anchor' ></div>\n",
    "\n",
    "#### Question 9\n",
    "Plot the clustering result to see the difference between before and after normalizing features. Discuss about the difference and explain why and if normalization was useful."
   ]
  },
  {
   "cell_type": "code",
   "execution_count": 18,
   "metadata": {
    "collapsed": false
   },
   "outputs": [],
   "source": [
    "clusters = KMeans.train(data, maxIterations=10,runs=10,initializationMode=\"random\",k=60)\n",
    "\n",
    "# do the clustering\n",
    "labels9 = data.map(lambda p: clusters.predict(p)).collect()"
   ]
  },
  {
   "cell_type": "code",
   "execution_count": null,
   "metadata": {
    "collapsed": true
   },
   "outputs": [],
   "source": [
    "#plot the clusters in color\n",
    "fig = plt.figure(1, figsize=(8, 8))\n",
    "plt.clf()\n",
    "ax = Axes3D(fig, rect=[0, 0, 1, 1], elev=8, azim=200)\n",
    "plt.cla()\n",
    "ax.scatter(features0, features1,features2, c=labels9)\n",
    "plt.show()"
   ]
  },
  {
   "cell_type": "markdown",
   "metadata": {},
   "source": [
    "<div class=\"comment\">\n",
    "\n",
    "\n",
    "PUT YOUR ANSWER HERE !!!\n",
    "\n",
    "</div>"
   ]
  },
  {
   "cell_type": "markdown",
   "metadata": {},
   "source": [
    "## 2.3. Clustering using categorical features"
   ]
  },
  {
   "cell_type": "markdown",
   "metadata": {},
   "source": [
    "### 2.3.1 Loading data\n",
    "\n",
    "In the previous section, we ignored the categorical features of our data: this is not a good idea, since these categorical features can be important in providing useful information for clustering.\n",
    "The problem is that K-means (or at least, the one we have developed and the one we use from MLLib) only work with data points in a metric space. Informally, this means that operations such as addition, substraction and computing the mean of data points are trivial and well defined. For a more formal definition of what a metric space is, follow this [link](https://en.wikipedia.org/wiki/Metric_space#Definition).\n",
    "\n",
    "What we will do next is to transform each categorical features into one or more numerical features. This approach is very widespread: imagine for example you wanted to use K-means to cluster text data. Then, the idea is to transform text data in $d$-dimensional vectors, and a nice way to do it is to use [word2vec](http://deeplearning4j.org/word2vec). If you're interested, follow this link to a nice [blog post](http://bigdatasciencebootcamp.com/posts/Part_3/clustering_news.html) on the problem.\n",
    "\n",
    "There are two approaches:\n",
    "\n",
    "* **Approach 1**: mapping **one** categorial feature to **one** numerical feature. The values in each categorical feature are encoded into unique numbers of the new numerical feature. For example, ['VERY HOT','HOT', 'COOL', 'COLD', 'VERY COLD'] will be encoded into [0,1,2,3,4,5]. However, by using this method, we implicit assume that the value of 'VERY HOT' is smaller than 'HOT'... This is not generally true.\n",
    "\n",
    "* **Approach 2**: mapping mapping **one** categorial feature to **multiple** numerical features. Basically, a single variable with $n$ observations and $d$ distinct values, to $d$ binary variables with $n$ observations each. Each observation indicating the presence (1) or absence (0) of the $d^{th}$ binary variable. For example, ['house', 'car', 'tooth', 'car'] becomes \n",
    "```\n",
    "[\n",
    "[1,0,0,0],\n",
    "[0,1,0,0],\n",
    "[0,0,1,0],\n",
    "[0,0,0,1],\n",
    "]\n",
    "```\n",
    "\n",
    "We call the second approach \"one-hot encoding\". By using this approach, we keep the same role for all values of categorical features.\n",
    "\n"
   ]
  },
  {
   "cell_type": "markdown",
   "metadata": {},
   "source": [
    "![](https://farm2.staticflickr.com/1604/24934700445_833f0a5649_t.jpg)"
   ]
  },
  {
   "cell_type": "markdown",
   "metadata": {},
   "source": [
    "<div class='anchor' ></div>\n",
    "\n",
    "#### Question 10\n",
    "Calculate the number of distinct categorical features value (at index `1,2,3`). Then construct a new input data using one-hot encoding for these categorical features (don't throw away numerical features!)."
   ]
  },
  {
   "cell_type": "code",
   "execution_count": 19,
   "metadata": {
    "collapsed": false
   },
   "outputs": [],
   "source": [
    "def column(line,i):\n",
    "    cols=line.split(\",\") \n",
    "    return cols[i]\n",
    "\n",
    "values1=raw_data.map(lambda x:column(x,1)).distinct().collect()\n",
    "values2=raw_data.map(lambda x:column(x,2)).distinct().collect()\n",
    "values3=raw_data.map(lambda x:column(x,3)).distinct().collect()"
   ]
  },
  {
   "cell_type": "code",
   "execution_count": null,
   "metadata": {
    "collapsed": false
   },
   "outputs": [],
   "source": []
  },
  {
   "cell_type": "code",
   "execution_count": 20,
   "metadata": {
    "collapsed": false
   },
   "outputs": [
    {
     "name": "stdout",
     "output_type": "stream",
     "text": [
      "Sums:\n",
      "[  2.36802060e+08   2.83354500e+06   1.94288000e+05   1.87059800e+06\n",
      "   1.04500000e+03   1.48000000e+02   1.07000000e+03   4.06970000e+04\n",
      "   1.04700000e+03   1.06800000e+03   1.05000000e+03   1.05400000e+03\n",
      "   5.21000000e+02   1.05600000e+03   1.05900000e+03   1.04100000e+03\n",
      "   1.07300000e+03   1.03800000e+03   1.11300000e+03   1.04500000e+03\n",
      "   5.00000000e+00   1.05200000e+03   3.00000000e+00   1.98100000e+03\n",
      "   1.07800000e+03   3.38200000e+03   6.23091000e+05   1.07300000e+03\n",
      "   6.89100000e+03   1.06700000e+03   1.05200000e+03   1.05900000e+03\n",
      "   1.05100000e+03   1.04200000e+03   1.57900000e+03   1.00000000e+00\n",
      "   1.06000000e+03   1.05600000e+03   5.37800000e+03   1.05700000e+03\n",
      "   9.00000000e+00   1.05600000e+03   1.07500000e+03   1.02100000e+03\n",
      "   1.06900000e+03   9.65540000e+04   1.07700000e+03   1.07600000e+03\n",
      "   2.81166000e+06   7.26530000e+04   1.05200000e+03   1.04100000e+03\n",
      "   5.21400000e+03   1.05500000e+03   1.05000000e+03   1.35000000e+02\n",
      "   2.00000000e+00   5.77820000e+04   1.06900000e+03   1.05100000e+03\n",
      "   1.05300000e+03   1.10083100e+06   1.63380000e+04   4.27700000e+03\n",
      "   1.20000000e+01   1.05500000e+03   2.00000000e+00   3.83300000e+03\n",
      "   1.05900000e+03   2.00000000e+00   1.04400000e+03   1.05600000e+03\n",
      "   1.04000000e+03   1.04500000e+03   5.70000000e+01   1.04000000e+03\n",
      "   1.22000000e+02   3.74432800e+06   5.32000000e+02   8.69829000e+05\n",
      "   5.00000000e+01   8.09400000e+03   5.34400000e+03   1.61000000e+02\n",
      "   2.68874000e+05   8.98676524e+09   5.35703589e+09   2.80000000e+01\n",
      "   3.17800000e+03   3.90000000e+01   6.09250000e+04   1.57000000e+02\n",
      "   7.03067000e+05   3.96200000e+04   3.34000000e+02   1.80000000e+02\n",
      "   6.33610000e+04   5.82300000e+03   3.64000000e+02   5.00200000e+03\n",
      "   0.00000000e+00   2.00000000e+00   4.09100000e+03   1.64084428e+09\n",
      "   1.44634545e+09   8.71775140e+05   8.72101730e+05   2.82468470e+05\n",
      "   2.82786920e+05   3.86919313e+06   1.03746840e+05   1.38433600e+05\n",
      "   1.14124176e+09   9.26852923e+08   3.69201228e+06   1.50436230e+05\n",
      "   2.96380553e+06   3.16639800e+04   8.72367200e+05   8.71361620e+05\n",
      "   2.83755350e+05   2.82440660e+05]\n",
      "Standard deviations:\n",
      "[723.32973742185243, 0.49380570382363426, 0.19516693939578725, 0.48584663255056409, 0.014604386504926545, 0.0054966210829605882, 0.014778009899874281, 0.090769735137315025, 0.014618352329028677, 0.014764195230510828, 0.014639276062564767, 0.014667127902087957, 0.010312578490946687, 0.014681033990363438, 0.014701868438945645, 0.014576414680036575, 0.014798707702696845, 0.014555400504744537, 0.015071960243273699, 0.014604386504926584, 0.0010103137952541265, 0.014653208605380559, 0.0007825858604552314, 0.020106010494991361, 0.014833139804211406, 0.026266870230137452, 0.33319929458398273, 0.014798707702696893, 0.037480634531127023, 0.01475728304199447, 0.014653208605380511, 0.014701868438945637, 0.014646243992098006, 0.01458341267038128, 0.017951161712658814, 0.00045182624943683155, 0.014708806691434324, 0.01468103399036343, 0.033116418635367732, 0.014687982093064343, 0.0013554776414421146, 0.014681033990363404, 0.014812490156367467, 0.014435741879634326, 0.014771104181623879, 0.13900603507139836, 0.014826259786665626, 0.014819376572203285, 0.49449488387245694, 0.12087972148616533, 0.01465320860538055, 0.014576414680036617, 0.032608119692598345, 0.014674082594931852, 0.014639276062564804, 0.005249674812596852, 0.00063897874456691572, 0.10796701300199507, 0.014771104181623919, 0.014646243992097956, 0.014660169907138794, 0.41740528151109196, 0.057656128241482189, 0.029535984105156461, 0.0015651702830459251, 0.014674082594931933, 0.00063897874456691453, 0.027962173682658294, 0.014701868438945647, 0.00063897874456691551, 0.014597398578003063, 0.014681033990363444, 0.014569413325552321, 0.014604386504926658, 0.0034111938778061948, 0.014569413325552132, 0.0049905224035057998, 0.42437738548344317, 0.010420864139492819, 0.38215287267153814, 0.003194878069318455, 0.040615705289258654, 0.033011685477851653, 0.0057329387694961247, 0.2277650728502835, 941430.9783959724, 645012.2679038489, 0.0023908331945139221, 0.042854332380644976, 0.0072150829487002072, 0.46897811671855966, 0.0072994068308511288, 0.35061152330892831, 3.8564806416816491, 0.008257145344809055, 0.0080824309543371092, 3.9380748990327916, 0.12418573580599858, 0.0087375887179557046, 0.035510477731832565, 1, 0.00063897874456691518, 0.028887157723317156, 211.99076084183977, 245.9926850690882, 0.3818755525573157, 0.38225404703415644, 0.23225289950425509, 0.23266037928854633, 0.38929579765362116, 0.082714575134133106, 0.14055955047891686, 64.020930815704588, 105.91275654025918, 0.41118597274571073, 0.10854320270280772, 0.4809876690941377, 0.041259775034579865, 0.38183816769545231, 0.38217739927364924, 0.23094279563806483, 0.23097768597320956]\n"
     ]
    }
   ],
   "source": [
    "\n",
    "    \n",
    "def parseLineWithHotEncoding(line,values1,values2,values3):\n",
    "    cols = line.split(\",\")\n",
    "    # label is the last column\n",
    "    label = cols[-1]\n",
    "    \n",
    "    vector = cols[0:-1]\n",
    "    \n",
    "    # the binary features that are encoded from the first categorial feature\n",
    "    featureOfCol1 = [1 if vector[1]==value else 0 for value in values1]\n",
    "    # the binary features that are encoded from the second categorial feature\n",
    "    featureOfCol2 = [1 if vector[2]==value else 0 for value in values2]\n",
    "    # the binary features that are encoded from the third categorial feature\n",
    "    featureOfCol3 = [1 if vector[3]==value else 0 for value in values3]\n",
    "    \n",
    "    # construct the new vector\n",
    "    vector = ([vector[0]] + featureOfCol1 + featureOfCol2 + \n",
    "        featureOfCol3 + vector[4:])\n",
    "    \n",
    "    # convert each value from string to float\n",
    "    vector = np.array(vector, dtype = 'float')\n",
    "    \n",
    "    return (label, vector)\n",
    "\n",
    "\n",
    "\n",
    "labelsAndData = raw_data.map(lambda x : parseLineWithHotEncoding(x,values1,values2,values3))\n",
    "\n",
    "# we only need the data, not the label\n",
    "new_data = labelsAndData.values().cache()\n",
    "\n",
    "\n",
    "normalizedData_hot = normalizeData(new_data).cache()"
   ]
  },
  {
   "cell_type": "markdown",
   "metadata": {},
   "source": [
    "### 2.3.2. Building models"
   ]
  },
  {
   "cell_type": "markdown",
   "metadata": {},
   "source": [
    "![](https://farm2.staticflickr.com/1604/24934700445_833f0a5649_t.jpg)"
   ]
  },
  {
   "cell_type": "markdown",
   "metadata": {},
   "source": [
    "<div class='anchor' ></div>\n",
    "#### Question 11\n",
    "Using the new data, cluster the connections with different values of $k \\in [80,90,100,110,120,130,140,150,160]$.\n",
    "Evaluate the results and choose the best value of $k$ as previous questions."
   ]
  },
  {
   "cell_type": "code",
   "execution_count": null,
   "metadata": {
    "collapsed": false
   },
   "outputs": [],
   "source": [
    "k_array=[80,90,100,110,120,130,140,150,160]\n",
    "scores = list([clusteringScore(normalizedData_hot,k) for k in k_array])\n",
    "plt.plot(scores)\n"
   ]
  },
  {
   "cell_type": "code",
   "execution_count": null,
   "metadata": {
    "collapsed": true
   },
   "outputs": [],
   "source": [
    "best_k=k_array[np.argmin(scores)]\n",
    "print(best_k)"
   ]
  },
  {
   "cell_type": "markdown",
   "metadata": {},
   "source": [
    "<div class=\"answer\">\n",
    "\n",
    "\n",
    "PUT YOUR ANSWER HERE !!!\n",
    "\n",
    "\n",
    "</div>"
   ]
  },
  {
   "cell_type": "markdown",
   "metadata": {
    "collapsed": false
   },
   "source": [
    "## 2.4. Anomaly detection\n",
    "When we have a new connection data (e.g., one that we never saw before), we simply find the closest cluster for it, and use this information as a proxy to indicate whether the data point is anomalous or not. A simple approach to decide wheter there is an anomaly or not, amounts to measuring the new data point’s distance to its nearest centroid. If this distance exceeds some thresholds, it is anomalous."
   ]
  },
  {
   "cell_type": "markdown",
   "metadata": {},
   "source": [
    "![](https://farm2.staticflickr.com/1604/24934700445_833f0a5649_t.jpg)"
   ]
  },
  {
   "cell_type": "markdown",
   "metadata": {},
   "source": [
    "<div class='anchor' ></div>\n",
    "\n",
    "#### Question 12\n",
    "Build your model with the best value of $k$ in your opinion. Then, detect the anomalous connections in our data. Plot and discuss your result.\n",
    "\n",
    "HINT: The threshold has strong impact on the result. Be careful when choosing it! A simple way to choose the threshold's value is picking up a distance of a data point from among known data. For example, the 100th-farthest data point distance can be an option."
   ]
  },
  {
   "cell_type": "code",
   "execution_count": 21,
   "metadata": {
    "collapsed": false
   },
   "outputs": [],
   "source": [
    "import heapq\n",
    "clusters = KMeans.train(normalizedData_hot, maxIterations=10,runs=10,initializationMode=\"random\",k=23)\n"
   ]
  },
  {
   "cell_type": "code",
   "execution_count": 22,
   "metadata": {
    "collapsed": true
   },
   "outputs": [],
   "source": [
    "centers=clusters.clusterCenters"
   ]
  },
  {
   "cell_type": "code",
   "execution_count": 23,
   "metadata": {
    "collapsed": false
   },
   "outputs": [
    {
     "ename": "TypeError",
     "evalue": "list indices must be integers, not tuple",
     "output_type": "error",
     "traceback": [
      "\u001b[1;31m\u001b[0m",
      "\u001b[1;31mTypeError\u001b[0mTraceback (most recent call last)",
      "\u001b[1;32m<ipython-input-23-d33e3340dd49>\u001b[0m in \u001b[0;36m<module>\u001b[1;34m()\u001b[0m\n\u001b[0;32m      2\u001b[0m \u001b[0merrors\u001b[0m\u001b[1;33m=\u001b[0m\u001b[0mnormalizedData_hot\u001b[0m\u001b[1;33m.\u001b[0m\u001b[0mmap\u001b[0m\u001b[1;33m(\u001b[0m\u001b[1;32mlambda\u001b[0m \u001b[0mx\u001b[0m\u001b[1;33m:\u001b[0m \u001b[0mnp\u001b[0m\u001b[1;33m.\u001b[0m\u001b[0mmin\u001b[0m\u001b[1;33m(\u001b[0m\u001b[1;33m[\u001b[0m\u001b[0meuclidean_distance\u001b[0m\u001b[1;33m(\u001b[0m\u001b[0mcenter\u001b[0m\u001b[1;33m,\u001b[0m\u001b[0mx\u001b[0m\u001b[1;33m)\u001b[0m \u001b[1;32mfor\u001b[0m \u001b[0mcenter\u001b[0m \u001b[1;32min\u001b[0m \u001b[0mcenters\u001b[0m\u001b[1;33m]\u001b[0m\u001b[1;33m)\u001b[0m\u001b[1;33m)\u001b[0m\u001b[1;33m.\u001b[0m\u001b[0mcollect\u001b[0m\u001b[1;33m(\u001b[0m\u001b[1;33m)\u001b[0m\u001b[1;33m\u001b[0m\u001b[0m\n\u001b[0;32m      3\u001b[0m \u001b[1;31m#100th highest element of errors\u001b[0m\u001b[1;33m\u001b[0m\u001b[1;33m\u001b[0m\u001b[0m\n\u001b[1;32m----> 4\u001b[1;33m \u001b[0mthreshold\u001b[0m\u001b[1;33m=\u001b[0m\u001b[0mheapq\u001b[0m\u001b[1;33m.\u001b[0m\u001b[0mnlargest\u001b[0m\u001b[1;33m(\u001b[0m\u001b[1;36m100\u001b[0m\u001b[1;33m,\u001b[0m\u001b[0merrors\u001b[0m\u001b[1;33m[\u001b[0m\u001b[1;33m:\u001b[0m\u001b[1;33m,\u001b[0m\u001b[1;36m1\u001b[0m\u001b[1;33m]\u001b[0m\u001b[1;33m)\u001b[0m\u001b[1;33m[\u001b[0m\u001b[1;33m-\u001b[0m\u001b[1;36m1\u001b[0m\u001b[1;33m]\u001b[0m\u001b[1;33m\u001b[0m\u001b[0m\n\u001b[0m",
      "\u001b[1;31mTypeError\u001b[0m: list indices must be integers, not tuple"
     ]
    }
   ],
   "source": [
    "#errors: distances to the closest centroid\n",
    "errors=normalizedData_hot.map(lambda x: np.min([euclidean_distance(center,x) for center in centers])).collect()"
   ]
  },
  {
   "cell_type": "code",
   "execution_count": 51,
   "metadata": {
    "collapsed": true
   },
   "outputs": [],
   "source": [
    "thresholds=[heapq.nlargest(n,errors)[-1] for n in range(1,3000,10)]"
   ]
  },
  {
   "cell_type": "code",
   "execution_count": null,
   "metadata": {
    "collapsed": false
   },
   "outputs": [],
   "source": []
  },
  {
   "cell_type": "code",
   "execution_count": 52,
   "metadata": {
    "collapsed": false
   },
   "outputs": [
    {
     "data": {
      "text/plain": [
       "[<matplotlib.lines.Line2D at 0x7f7fb8d18320>]"
      ]
     },
     "execution_count": 52,
     "metadata": {},
     "output_type": "execute_result"
    },
    {
     "data": {
      "image/png": "[encoded data removed]",
      "text/plain": [
       "<matplotlib.figure.Figure at 0x7f7fb8eaa470>"
      ]
     },
     "metadata": {},
     "output_type": "display_data"
    }
   ],
   "source": [
    "plt.plot(range(1,3000,10),thresholds)\n",
    "\n"
   ]
  },
  {
   "cell_type": "markdown",
   "metadata": {},
   "source": [
    "We have plotted the threshold against n where the threshold is the distance of the nth farthest data point. We notice that 100 farthest elements are way above the mean distance. They are between 2500 and 500. Then, when we increase n, the value of the threshold decreases slowly."
   ]
  },
  {
   "cell_type": "markdown",
   "metadata": {},
   "source": [
    "![](https://farm2.staticflickr.com/1604/24934700445_833f0a5649_t.jpg)\n"
   ]
  },
  {
   "cell_type": "markdown",
   "metadata": {
    "collapsed": true
   },
   "source": [
    "<div class='anchor' ></div>\n",
    "\n",
    "#### Question 13\n",
    "Try other methods to find the best value for $k$ such as `silhouette`, `entropy`... In particular, with this data, you can take advantage of predefined labels to calculate the quality of model using entropy... However, we suggest you to try with `silhouette`. It's more general and can work with any dataset (with and without predefined labels).\n",
    "\n",
    "Here are some additional information about the metrics we suggest to use:\n",
    "- [Silhouette](https://en.wikipedia.org/wiki/Silhouette_(clustering))\n",
    "- [Hack approach to Silhouette](http://scikit-learn.org/stable/auto_examples/cluster/plot_kmeans_silhouette_analysis.html)\n",
    "- [Entropy](http://scikit-learn.org/stable/modules/clustering.html) [Lookup for entropy]\n",
    "\n",
    "Note: you are free to play with any relevant evaluation metric you think appropriate for your work!"
   ]
  },
  {
   "cell_type": "code",
   "execution_count": null,
   "metadata": {
    "collapsed": false
   },
   "outputs": [],
   "source": []
  },
  {
   "cell_type": "code",
   "execution_count": 63,
   "metadata": {
    "collapsed": false
   },
   "outputs": [
    {
     "ename": "Py4JNetworkError",
     "evalue": "An error occurred while trying to connect to the Java server",
     "output_type": "error",
     "traceback": [
      "\u001b[1;31m\u001b[0m",
      "\u001b[1;31mPy4JError\u001b[0mTraceback (most recent call last)",
      "\u001b[1;32m/opt/spark/python/lib/py4j-0.8.2.1-src.zip/py4j/java_gateway.py\u001b[0m in \u001b[0;36msend_command\u001b[1;34m(self, command)\u001b[0m\n\u001b[0;32m    478\u001b[0m                 \u001b[0mself\u001b[0m\u001b[1;33m.\u001b[0m\u001b[0mclose\u001b[0m\u001b[1;33m(\u001b[0m\u001b[1;33m)\u001b[0m\u001b[1;33m\u001b[0m\u001b[0m\n\u001b[1;32m--> 479\u001b[1;33m                 \u001b[1;32mraise\u001b[0m \u001b[0mPy4JError\u001b[0m\u001b[1;33m(\u001b[0m\u001b[1;34m\"Answer from Java side is empty\"\u001b[0m\u001b[1;33m)\u001b[0m\u001b[1;33m\u001b[0m\u001b[0m\n\u001b[0m\u001b[0;32m    480\u001b[0m             \u001b[1;32mreturn\u001b[0m \u001b[0manswer\u001b[0m\u001b[1;33m\u001b[0m\u001b[0m\n",
      "\u001b[1;31mPy4JError\u001b[0m: Answer from Java side is empty",
      "\nDuring handling of the above exception, another exception occurred:\n",
      "\u001b[1;31mPy4JNetworkError\u001b[0mTraceback (most recent call last)",
      "\u001b[1;32m/opt/spark/python/lib/py4j-0.8.2.1-src.zip/py4j/java_gateway.py\u001b[0m in \u001b[0;36msend_command\u001b[1;34m(self, command, retry)\u001b[0m\n\u001b[0;32m    363\u001b[0m         \u001b[1;32mtry\u001b[0m\u001b[1;33m:\u001b[0m\u001b[1;33m\u001b[0m\u001b[0m\n\u001b[1;32m--> 364\u001b[1;33m             \u001b[0mresponse\u001b[0m \u001b[1;33m=\u001b[0m \u001b[0mconnection\u001b[0m\u001b[1;33m.\u001b[0m\u001b[0msend_command\u001b[0m\u001b[1;33m(\u001b[0m\u001b[0mcommand\u001b[0m\u001b[1;33m)\u001b[0m\u001b[1;33m\u001b[0m\u001b[0m\n\u001b[0m\u001b[0;32m    365\u001b[0m             \u001b[0mself\u001b[0m\u001b[1;33m.\u001b[0m\u001b[0m_give_back_connection\u001b[0m\u001b[1;33m(\u001b[0m\u001b[0mconnection\u001b[0m\u001b[1;33m)\u001b[0m\u001b[1;33m\u001b[0m\u001b[0m\n",
      "\u001b[1;32m/opt/spark/python/lib/py4j-0.8.2.1-src.zip/py4j/java_gateway.py\u001b[0m in \u001b[0;36msend_command\u001b[1;34m(self, command)\u001b[0m\n\u001b[0;32m    483\u001b[0m             \u001b[0mlogger\u001b[0m\u001b[1;33m.\u001b[0m\u001b[0mexception\u001b[0m\u001b[1;33m(\u001b[0m\u001b[1;34m'Error while sending or receiving.'\u001b[0m\u001b[1;33m)\u001b[0m\u001b[1;33m\u001b[0m\u001b[0m\n\u001b[1;32m--> 484\u001b[1;33m             \u001b[1;32mraise\u001b[0m \u001b[0mPy4JNetworkError\u001b[0m\u001b[1;33m(\u001b[0m\u001b[1;34m'Error while sending or receiving'\u001b[0m\u001b[1;33m)\u001b[0m\u001b[1;33m\u001b[0m\u001b[0m\n\u001b[0m\u001b[0;32m    485\u001b[0m \u001b[1;33m\u001b[0m\u001b[0m\n",
      "\u001b[1;31mPy4JNetworkError\u001b[0m: Error while sending or receiving",
      "\nDuring handling of the above exception, another exception occurred:\n",
      "\u001b[1;31mIndexError\u001b[0mTraceback (most recent call last)",
      "\u001b[1;32m/opt/spark/python/lib/py4j-0.8.2.1-src.zip/py4j/java_gateway.py\u001b[0m in \u001b[0;36m_get_connection\u001b[1;34m(self)\u001b[0m\n\u001b[0;32m    315\u001b[0m         \u001b[1;32mtry\u001b[0m\u001b[1;33m:\u001b[0m\u001b[1;33m\u001b[0m\u001b[0m\n\u001b[1;32m--> 316\u001b[1;33m             \u001b[0mconnection\u001b[0m \u001b[1;33m=\u001b[0m \u001b[0mself\u001b[0m\u001b[1;33m.\u001b[0m\u001b[0mdeque\u001b[0m\u001b[1;33m.\u001b[0m\u001b[0mpop\u001b[0m\u001b[1;33m(\u001b[0m\u001b[1;33m)\u001b[0m\u001b[1;33m\u001b[0m\u001b[0m\n\u001b[0m\u001b[0;32m    317\u001b[0m         \u001b[1;32mexcept\u001b[0m \u001b[0mException\u001b[0m\u001b[1;33m:\u001b[0m\u001b[1;33m\u001b[0m\u001b[0m\n",
      "\u001b[1;31mIndexError\u001b[0m: pop from an empty deque",
      "\nDuring handling of the above exception, another exception occurred:\n",
      "\u001b[1;31mConnectionRefusedError\u001b[0mTraceback (most recent call last)",
      "\u001b[1;32m/opt/spark/python/lib/py4j-0.8.2.1-src.zip/py4j/java_gateway.py\u001b[0m in \u001b[0;36mstart\u001b[1;34m(self)\u001b[0m\n\u001b[0;32m    424\u001b[0m         \u001b[1;32mtry\u001b[0m\u001b[1;33m:\u001b[0m\u001b[1;33m\u001b[0m\u001b[0m\n\u001b[1;32m--> 425\u001b[1;33m             \u001b[0mself\u001b[0m\u001b[1;33m.\u001b[0m\u001b[0msocket\u001b[0m\u001b[1;33m.\u001b[0m\u001b[0mconnect\u001b[0m\u001b[1;33m(\u001b[0m\u001b[1;33m(\u001b[0m\u001b[0mself\u001b[0m\u001b[1;33m.\u001b[0m\u001b[0maddress\u001b[0m\u001b[1;33m,\u001b[0m \u001b[0mself\u001b[0m\u001b[1;33m.\u001b[0m\u001b[0mport\u001b[0m\u001b[1;33m)\u001b[0m\u001b[1;33m)\u001b[0m\u001b[1;33m\u001b[0m\u001b[0m\n\u001b[0m\u001b[0;32m    426\u001b[0m             \u001b[0mself\u001b[0m\u001b[1;33m.\u001b[0m\u001b[0mis_connected\u001b[0m \u001b[1;33m=\u001b[0m \u001b[1;32mTrue\u001b[0m\u001b[1;33m\u001b[0m\u001b[0m\n",
      "\u001b[1;31mConnectionRefusedError\u001b[0m: [Errno 111] Connection refused",
      "\nDuring handling of the above exception, another exception occurred:\n",
      "\u001b[1;31mPy4JNetworkError\u001b[0mTraceback (most recent call last)",
      "\u001b[1;32m<ipython-input-63-77b2f45c630c>\u001b[0m in \u001b[0;36m<module>\u001b[1;34m()\u001b[0m\n\u001b[0;32m      1\u001b[0m \u001b[1;32mfrom\u001b[0m \u001b[0msklearn\u001b[0m\u001b[1;33m.\u001b[0m\u001b[0mmetrics\u001b[0m \u001b[1;32mimport\u001b[0m \u001b[0msilhouette_score\u001b[0m\u001b[1;33m\u001b[0m\u001b[0m\n\u001b[0;32m      2\u001b[0m \u001b[0mcenters\u001b[0m\u001b[1;33m=\u001b[0m\u001b[0mclusters\u001b[0m\u001b[1;33m.\u001b[0m\u001b[0mclusterCenters\u001b[0m\u001b[1;33m\u001b[0m\u001b[0m\n\u001b[1;32m----> 3\u001b[1;33m \u001b[0mlabels12\u001b[0m\u001b[1;33m=\u001b[0m\u001b[0mnormalizedData_hot\u001b[0m\u001b[1;33m.\u001b[0m\u001b[0mmap\u001b[0m\u001b[1;33m(\u001b[0m\u001b[1;32mlambda\u001b[0m \u001b[0mp\u001b[0m\u001b[1;33m:\u001b[0m \u001b[0mfind_closest_centroid\u001b[0m\u001b[1;33m(\u001b[0m\u001b[0mp\u001b[0m\u001b[1;33m,\u001b[0m \u001b[0mcenters\u001b[0m\u001b[1;33m)\u001b[0m\u001b[1;33m)\u001b[0m\u001b[1;33m.\u001b[0m\u001b[0mcollect\u001b[0m\u001b[1;33m(\u001b[0m\u001b[1;33m)\u001b[0m\u001b[1;33m\u001b[0m\u001b[0m\n\u001b[0m\u001b[0;32m      4\u001b[0m \u001b[1;33m\u001b[0m\u001b[0m\n\u001b[0;32m      5\u001b[0m \u001b[0msilhouette\u001b[0m\u001b[1;33m=\u001b[0m\u001b[0msilhouette_score\u001b[0m\u001b[1;33m(\u001b[0m\u001b[0mnormalizedData_hot\u001b[0m\u001b[1;33m.\u001b[0m\u001b[0mcollect\u001b[0m\u001b[1;33m(\u001b[0m\u001b[1;33m)\u001b[0m\u001b[1;33m,\u001b[0m\u001b[0mlabels12\u001b[0m\u001b[1;33m)\u001b[0m\u001b[1;33m\u001b[0m\u001b[0m\n",
      "\u001b[1;32m/opt/spark/python/pyspark/rdd.py\u001b[0m in \u001b[0;36mcollect\u001b[1;34m(self)\u001b[0m\n\u001b[0;32m    770\u001b[0m         \u001b[0mReturn\u001b[0m \u001b[0ma\u001b[0m \u001b[0mlist\u001b[0m \u001b[0mthat\u001b[0m \u001b[0mcontains\u001b[0m \u001b[0mall\u001b[0m \u001b[0mof\u001b[0m \u001b[0mthe\u001b[0m \u001b[0melements\u001b[0m \u001b[1;32min\u001b[0m \u001b[0mthis\u001b[0m \u001b[0mRDD\u001b[0m\u001b[1;33m.\u001b[0m\u001b[1;33m\u001b[0m\u001b[0m\n\u001b[0;32m    771\u001b[0m         \"\"\"\n\u001b[1;32m--> 772\u001b[1;33m         \u001b[1;32mwith\u001b[0m \u001b[0mSCCallSiteSync\u001b[0m\u001b[1;33m(\u001b[0m\u001b[0mself\u001b[0m\u001b[1;33m.\u001b[0m\u001b[0mcontext\u001b[0m\u001b[1;33m)\u001b[0m \u001b[1;32mas\u001b[0m \u001b[0mcss\u001b[0m\u001b[1;33m:\u001b[0m\u001b[1;33m\u001b[0m\u001b[0m\n\u001b[0m\u001b[0;32m    773\u001b[0m             \u001b[0mport\u001b[0m \u001b[1;33m=\u001b[0m \u001b[0mself\u001b[0m\u001b[1;33m.\u001b[0m\u001b[0mctx\u001b[0m\u001b[1;33m.\u001b[0m\u001b[0m_jvm\u001b[0m\u001b[1;33m.\u001b[0m\u001b[0mPythonRDD\u001b[0m\u001b[1;33m.\u001b[0m\u001b[0mcollectAndServe\u001b[0m\u001b[1;33m(\u001b[0m\u001b[0mself\u001b[0m\u001b[1;33m.\u001b[0m\u001b[0m_jrdd\u001b[0m\u001b[1;33m.\u001b[0m\u001b[0mrdd\u001b[0m\u001b[1;33m(\u001b[0m\u001b[1;33m)\u001b[0m\u001b[1;33m)\u001b[0m\u001b[1;33m\u001b[0m\u001b[0m\n\u001b[0;32m    774\u001b[0m         \u001b[1;32mreturn\u001b[0m \u001b[0mlist\u001b[0m\u001b[1;33m(\u001b[0m\u001b[0m_load_from_socket\u001b[0m\u001b[1;33m(\u001b[0m\u001b[0mport\u001b[0m\u001b[1;33m,\u001b[0m \u001b[0mself\u001b[0m\u001b[1;33m.\u001b[0m\u001b[0m_jrdd_deserializer\u001b[0m\u001b[1;33m)\u001b[0m\u001b[1;33m)\u001b[0m\u001b[1;33m\u001b[0m\u001b[0m\n",
      "\u001b[1;32m/opt/spark/python/pyspark/traceback_utils.py\u001b[0m in \u001b[0;36m__enter__\u001b[1;34m(self)\u001b[0m\n\u001b[0;32m     70\u001b[0m     \u001b[1;32mdef\u001b[0m \u001b[0m__enter__\u001b[0m\u001b[1;33m(\u001b[0m\u001b[0mself\u001b[0m\u001b[1;33m)\u001b[0m\u001b[1;33m:\u001b[0m\u001b[1;33m\u001b[0m\u001b[0m\n\u001b[0;32m     71\u001b[0m         \u001b[1;32mif\u001b[0m \u001b[0mSCCallSiteSync\u001b[0m\u001b[1;33m.\u001b[0m\u001b[0m_spark_stack_depth\u001b[0m \u001b[1;33m==\u001b[0m \u001b[1;36m0\u001b[0m\u001b[1;33m:\u001b[0m\u001b[1;33m\u001b[0m\u001b[0m\n\u001b[1;32m---> 72\u001b[1;33m             \u001b[0mself\u001b[0m\u001b[1;33m.\u001b[0m\u001b[0m_context\u001b[0m\u001b[1;33m.\u001b[0m\u001b[0m_jsc\u001b[0m\u001b[1;33m.\u001b[0m\u001b[0msetCallSite\u001b[0m\u001b[1;33m(\u001b[0m\u001b[0mself\u001b[0m\u001b[1;33m.\u001b[0m\u001b[0m_call_site\u001b[0m\u001b[1;33m)\u001b[0m\u001b[1;33m\u001b[0m\u001b[0m\n\u001b[0m\u001b[0;32m     73\u001b[0m         \u001b[0mSCCallSiteSync\u001b[0m\u001b[1;33m.\u001b[0m\u001b[0m_spark_stack_depth\u001b[0m \u001b[1;33m+=\u001b[0m \u001b[1;36m1\u001b[0m\u001b[1;33m\u001b[0m\u001b[0m\n\u001b[0;32m     74\u001b[0m \u001b[1;33m\u001b[0m\u001b[0m\n",
      "\u001b[1;32m/opt/spark/python/lib/py4j-0.8.2.1-src.zip/py4j/java_gateway.py\u001b[0m in \u001b[0;36m__call__\u001b[1;34m(self, *args)\u001b[0m\n\u001b[0;32m    534\u001b[0m             \u001b[0mEND_COMMAND_PART\u001b[0m\u001b[1;33m\u001b[0m\u001b[0m\n\u001b[0;32m    535\u001b[0m \u001b[1;33m\u001b[0m\u001b[0m\n\u001b[1;32m--> 536\u001b[1;33m         \u001b[0manswer\u001b[0m \u001b[1;33m=\u001b[0m \u001b[0mself\u001b[0m\u001b[1;33m.\u001b[0m\u001b[0mgateway_client\u001b[0m\u001b[1;33m.\u001b[0m\u001b[0msend_command\u001b[0m\u001b[1;33m(\u001b[0m\u001b[0mcommand\u001b[0m\u001b[1;33m)\u001b[0m\u001b[1;33m\u001b[0m\u001b[0m\n\u001b[0m\u001b[0;32m    537\u001b[0m         return_value = get_return_value(answer, self.gateway_client,\n\u001b[0;32m    538\u001b[0m                 self.target_id, self.name)\n",
      "\u001b[1;32m/opt/spark/python/lib/py4j-0.8.2.1-src.zip/py4j/java_gateway.py\u001b[0m in \u001b[0;36msend_command\u001b[1;34m(self, command, retry)\u001b[0m\n\u001b[0;32m    367\u001b[0m             \u001b[1;32mif\u001b[0m \u001b[0mretry\u001b[0m\u001b[1;33m:\u001b[0m\u001b[1;33m\u001b[0m\u001b[0m\n\u001b[0;32m    368\u001b[0m                 \u001b[1;31m#print_exc()\u001b[0m\u001b[1;33m\u001b[0m\u001b[1;33m\u001b[0m\u001b[0m\n\u001b[1;32m--> 369\u001b[1;33m                 \u001b[0mresponse\u001b[0m \u001b[1;33m=\u001b[0m \u001b[0mself\u001b[0m\u001b[1;33m.\u001b[0m\u001b[0msend_command\u001b[0m\u001b[1;33m(\u001b[0m\u001b[0mcommand\u001b[0m\u001b[1;33m)\u001b[0m\u001b[1;33m\u001b[0m\u001b[0m\n\u001b[0m\u001b[0;32m    370\u001b[0m             \u001b[1;32melse\u001b[0m\u001b[1;33m:\u001b[0m\u001b[1;33m\u001b[0m\u001b[0m\n\u001b[0;32m    371\u001b[0m                 \u001b[0mresponse\u001b[0m \u001b[1;33m=\u001b[0m \u001b[0mERROR\u001b[0m\u001b[1;33m\u001b[0m\u001b[0m\n",
      "\u001b[1;32m/opt/spark/python/lib/py4j-0.8.2.1-src.zip/py4j/java_gateway.py\u001b[0m in \u001b[0;36msend_command\u001b[1;34m(self, command, retry)\u001b[0m\n\u001b[0;32m    360\u001b[0m          \u001b[0mthe\u001b[0m \u001b[0mPy4J\u001b[0m \u001b[0mprotocol\u001b[0m\u001b[1;33m.\u001b[0m\u001b[1;33m\u001b[0m\u001b[0m\n\u001b[0;32m    361\u001b[0m         \"\"\"\n\u001b[1;32m--> 362\u001b[1;33m         \u001b[0mconnection\u001b[0m \u001b[1;33m=\u001b[0m \u001b[0mself\u001b[0m\u001b[1;33m.\u001b[0m\u001b[0m_get_connection\u001b[0m\u001b[1;33m(\u001b[0m\u001b[1;33m)\u001b[0m\u001b[1;33m\u001b[0m\u001b[0m\n\u001b[0m\u001b[0;32m    363\u001b[0m         \u001b[1;32mtry\u001b[0m\u001b[1;33m:\u001b[0m\u001b[1;33m\u001b[0m\u001b[0m\n\u001b[0;32m    364\u001b[0m             \u001b[0mresponse\u001b[0m \u001b[1;33m=\u001b[0m \u001b[0mconnection\u001b[0m\u001b[1;33m.\u001b[0m\u001b[0msend_command\u001b[0m\u001b[1;33m(\u001b[0m\u001b[0mcommand\u001b[0m\u001b[1;33m)\u001b[0m\u001b[1;33m\u001b[0m\u001b[0m\n",
      "\u001b[1;32m/opt/spark/python/lib/py4j-0.8.2.1-src.zip/py4j/java_gateway.py\u001b[0m in \u001b[0;36m_get_connection\u001b[1;34m(self)\u001b[0m\n\u001b[0;32m    316\u001b[0m             \u001b[0mconnection\u001b[0m \u001b[1;33m=\u001b[0m \u001b[0mself\u001b[0m\u001b[1;33m.\u001b[0m\u001b[0mdeque\u001b[0m\u001b[1;33m.\u001b[0m\u001b[0mpop\u001b[0m\u001b[1;33m(\u001b[0m\u001b[1;33m)\u001b[0m\u001b[1;33m\u001b[0m\u001b[0m\n\u001b[0;32m    317\u001b[0m         \u001b[1;32mexcept\u001b[0m \u001b[0mException\u001b[0m\u001b[1;33m:\u001b[0m\u001b[1;33m\u001b[0m\u001b[0m\n\u001b[1;32m--> 318\u001b[1;33m             \u001b[0mconnection\u001b[0m \u001b[1;33m=\u001b[0m \u001b[0mself\u001b[0m\u001b[1;33m.\u001b[0m\u001b[0m_create_connection\u001b[0m\u001b[1;33m(\u001b[0m\u001b[1;33m)\u001b[0m\u001b[1;33m\u001b[0m\u001b[0m\n\u001b[0m\u001b[0;32m    319\u001b[0m         \u001b[1;32mreturn\u001b[0m \u001b[0mconnection\u001b[0m\u001b[1;33m\u001b[0m\u001b[0m\n\u001b[0;32m    320\u001b[0m \u001b[1;33m\u001b[0m\u001b[0m\n",
      "\u001b[1;32m/opt/spark/python/lib/py4j-0.8.2.1-src.zip/py4j/java_gateway.py\u001b[0m in \u001b[0;36m_create_connection\u001b[1;34m(self)\u001b[0m\n\u001b[0;32m    323\u001b[0m         connection = GatewayConnection(self.address, self.port,\n\u001b[0;32m    324\u001b[0m                 self.auto_close, self.gateway_property)\n\u001b[1;32m--> 325\u001b[1;33m         \u001b[0mconnection\u001b[0m\u001b[1;33m.\u001b[0m\u001b[0mstart\u001b[0m\u001b[1;33m(\u001b[0m\u001b[1;33m)\u001b[0m\u001b[1;33m\u001b[0m\u001b[0m\n\u001b[0m\u001b[0;32m    326\u001b[0m         \u001b[1;32mreturn\u001b[0m \u001b[0mconnection\u001b[0m\u001b[1;33m\u001b[0m\u001b[0m\n\u001b[0;32m    327\u001b[0m \u001b[1;33m\u001b[0m\u001b[0m\n",
      "\u001b[1;32m/opt/spark/python/lib/py4j-0.8.2.1-src.zip/py4j/java_gateway.py\u001b[0m in \u001b[0;36mstart\u001b[1;34m(self)\u001b[0m\n\u001b[0;32m    430\u001b[0m                 \u001b[1;34m'server'\u001b[0m\u001b[1;33m\u001b[0m\u001b[0m\n\u001b[0;32m    431\u001b[0m             \u001b[0mlogger\u001b[0m\u001b[1;33m.\u001b[0m\u001b[0mexception\u001b[0m\u001b[1;33m(\u001b[0m\u001b[0mmsg\u001b[0m\u001b[1;33m)\u001b[0m\u001b[1;33m\u001b[0m\u001b[0m\n\u001b[1;32m--> 432\u001b[1;33m             \u001b[1;32mraise\u001b[0m \u001b[0mPy4JNetworkError\u001b[0m\u001b[1;33m(\u001b[0m\u001b[0mmsg\u001b[0m\u001b[1;33m)\u001b[0m\u001b[1;33m\u001b[0m\u001b[0m\n\u001b[0m\u001b[0;32m    433\u001b[0m \u001b[1;33m\u001b[0m\u001b[0m\n\u001b[0;32m    434\u001b[0m     \u001b[1;32mdef\u001b[0m \u001b[0mclose\u001b[0m\u001b[1;33m(\u001b[0m\u001b[0mself\u001b[0m\u001b[1;33m)\u001b[0m\u001b[1;33m:\u001b[0m\u001b[1;33m\u001b[0m\u001b[0m\n",
      "\u001b[1;31mPy4JNetworkError\u001b[0m: An error occurred while trying to connect to the Java server"
     ]
    }
   ],
   "source": [
    "from sklearn.metrics import silhouette_score\n",
    "centers=clusters.clusterCenters\n",
    "labels12=normalizedData_hot.map(lambda p: find_closest_centroid(p, centers)).collect()\n",
    "\n",
    "silhouette=silhouette_score(normalizedData_hot.collect(),labels12)\n",
    "print(\"Silhouette Coefficient: %0.3f\"\n",
    "      %silhouette)\n"
   ]
  },
  {
   "cell_type": "markdown",
   "metadata": {
    "collapsed": true
   },
   "source": [
    "![](https://farm2.staticflickr.com/1604/24934700445_833f0a5649_t.jpg)"
   ]
  },
  {
   "cell_type": "markdown",
   "metadata": {},
   "source": [
    "<div class='anchor' ></div>\n",
    "\n",
    "#### Question 14\n",
    "Implement K-means on Spark so that It can work with large datasets in parallel. Test your algorithm with our dataset in this notebook. Compare our algorithm with the algorithm from MLLIB.\n",
    "\n",
    "Let's clarify the meaning of this question: what we want is for students to design the K-means algorithm for the parallel programming model exposed by Spark. You are strongly invited to use the Python API (pyspark). So, at the end of the day, you will operate on RDDs, and implement a \"map/reduce\" algorithm that performs the two phases of the standard K-means algorithm, i.e. the assignment step and the update step."
   ]
  },
  {
   "cell_type": "code",
   "execution_count": null,
   "metadata": {
    "collapsed": true
   },
   "outputs": [],
   "source": []
  }
 ],
 "metadata": {
  "kernelspec": {
   "display_name": "Python 3",
   "language": "python",
   "name": "python3"
  },
  "language_info": {
   "codemirror_mode": {
    "name": "ipython",
    "version": 3
   },
   "file_extension": ".py",
   "mimetype": "text/x-python",
   "name": "python",
   "nbconvert_exporter": "python",
   "pygments_lexer": "ipython3",
   "version": "3.4.4"
  }
 },
 "nbformat": 4,
 "nbformat_minor": 0
}
